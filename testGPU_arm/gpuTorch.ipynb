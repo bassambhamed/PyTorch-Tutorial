{
 "cells": [
  {
   "cell_type": "code",
   "execution_count": 1,
   "id": "df996198-eabc-4e90-8cc8-36bb7f420952",
   "metadata": {
    "ExecuteTime": {
     "end_time": "2024-04-01T21:55:37.595888Z",
     "start_time": "2024-04-01T21:55:37.592615Z"
    }
   },
   "outputs": [
    {
     "name": "stdout",
     "output_type": "stream",
     "text": [
      "Python 3.10.13 (main, Sep 11 2023, 08:16:02) [Clang 14.0.6 ]\n"
     ]
    }
   ],
   "source": [
    "import sys\n",
    "print(f'Python {sys.version}')"
   ]
  },
  {
   "cell_type": "code",
   "outputs": [
    {
     "name": "stdout",
     "output_type": "stream",
     "text": [
      "Python Platform: macOS-14.1-arm64-arm-64bit\n"
     ]
    }
   ],
   "source": [
    "import platform\n",
    "print(f'Python Platform: {platform.platform()}')"
   ],
   "metadata": {
    "collapsed": false,
    "ExecuteTime": {
     "end_time": "2024-04-01T21:55:42.190289Z",
     "start_time": "2024-04-01T21:55:42.187139Z"
    }
   },
   "id": "3aabeb340327fd48",
   "execution_count": 2
  },
  {
   "cell_type": "code",
   "execution_count": 3,
   "id": "ab661c44-9363-41ad-ab18-0135200d2b1d",
   "metadata": {
    "ExecuteTime": {
     "end_time": "2024-04-01T21:55:45.200421Z",
     "start_time": "2024-04-01T21:55:44.142676Z"
    }
   },
   "outputs": [
    {
     "name": "stdout",
     "output_type": "stream",
     "text": [
      "Torch Version: 2.2.1\n"
     ]
    }
   ],
   "source": [
    "import torch\n",
    "print(f'Torch Version: {torch.__version__}')"
   ]
  },
  {
   "cell_type": "code",
   "outputs": [
    {
     "data": {
      "text/plain": "True"
     },
     "execution_count": 4,
     "metadata": {},
     "output_type": "execute_result"
    }
   ],
   "source": [
    "torch.backends.mps.is_available()"
   ],
   "metadata": {
    "collapsed": false,
    "ExecuteTime": {
     "end_time": "2024-04-01T21:55:46.574252Z",
     "start_time": "2024-04-01T21:55:46.569568Z"
    }
   },
   "id": "86a48325499f8437",
   "execution_count": 4
  },
  {
   "cell_type": "code",
   "outputs": [
    {
     "name": "stdout",
     "output_type": "stream",
     "text": [
      "Pandas 2.1.4\n",
      "Scikit-Learn 1.3.0\n",
      "SciPy 1.11.4\n"
     ]
    }
   ],
   "source": [
    "import pandas as pd\n",
    "import sklearn as sk\n",
    "import scipy as sp\n",
    "print(f'Pandas {pd.__version__}')\n",
    "print(f'Scikit-Learn {sk.__version__}')\n",
    "print(f'SciPy {sp.__version__}')"
   ],
   "metadata": {
    "collapsed": false,
    "ExecuteTime": {
     "end_time": "2024-04-01T21:56:04.946077Z",
     "start_time": "2024-04-01T21:55:49.334147Z"
    }
   },
   "id": "505b4edda8f34f51",
   "execution_count": 5
  },
  {
   "cell_type": "code",
   "outputs": [],
   "source": [],
   "metadata": {
    "collapsed": false
   },
   "id": "1610e23538ed876a"
  }
 ],
 "metadata": {
  "kernelspec": {
   "display_name": "Python 3 (ipykernel)",
   "language": "python",
   "name": "python3"
  },
  "language_info": {
   "codemirror_mode": {
    "name": "ipython",
    "version": 3
   },
   "file_extension": ".py",
   "mimetype": "text/x-python",
   "name": "python",
   "nbconvert_exporter": "python",
   "pygments_lexer": "ipython3",
   "version": "3.11.5"
  }
 },
 "nbformat": 4,
 "nbformat_minor": 5
}
