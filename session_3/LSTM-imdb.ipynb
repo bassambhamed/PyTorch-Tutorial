{
 "cells": [
  {
   "cell_type": "markdown",
   "metadata": {},
   "source": [
    "# Load in and visualize the data"
   ]
  },
  {
   "cell_type": "code",
   "execution_count": 1,
   "metadata": {
    "ExecuteTime": {
     "end_time": "2024-05-05T09:38:24.492427Z",
     "start_time": "2024-05-05T09:38:23.302469Z"
    },
    "collapsed": false,
    "jupyter": {
     "outputs_hidden": false
    }
   },
   "outputs": [],
   "source": [
    "import pandas as pd"
   ]
  },
  {
   "cell_type": "code",
   "execution_count": 2,
   "metadata": {
    "ExecuteTime": {
     "end_time": "2024-05-05T09:38:27.600425Z",
     "start_time": "2024-05-05T09:38:27.177172Z"
    }
   },
   "outputs": [
    {
     "data": {
      "text/html": [
       "<div>\n",
       "<style scoped>\n",
       "    .dataframe tbody tr th:only-of-type {\n",
       "        vertical-align: middle;\n",
       "    }\n",
       "\n",
       "    .dataframe tbody tr th {\n",
       "        vertical-align: top;\n",
       "    }\n",
       "\n",
       "    .dataframe thead th {\n",
       "        text-align: right;\n",
       "    }\n",
       "</style>\n",
       "<table border=\"1\" class=\"dataframe\">\n",
       "  <thead>\n",
       "    <tr style=\"text-align: right;\">\n",
       "      <th></th>\n",
       "      <th>review</th>\n",
       "      <th>sentiment</th>\n",
       "    </tr>\n",
       "  </thead>\n",
       "  <tbody>\n",
       "    <tr>\n",
       "      <th>0</th>\n",
       "      <td>One of the other reviewers has mentioned that ...</td>\n",
       "      <td>positive</td>\n",
       "    </tr>\n",
       "    <tr>\n",
       "      <th>1</th>\n",
       "      <td>A wonderful little production. &lt;br /&gt;&lt;br /&gt;The...</td>\n",
       "      <td>positive</td>\n",
       "    </tr>\n",
       "    <tr>\n",
       "      <th>2</th>\n",
       "      <td>I thought this was a wonderful way to spend ti...</td>\n",
       "      <td>positive</td>\n",
       "    </tr>\n",
       "    <tr>\n",
       "      <th>3</th>\n",
       "      <td>Basically there's a family where a little boy ...</td>\n",
       "      <td>negative</td>\n",
       "    </tr>\n",
       "    <tr>\n",
       "      <th>4</th>\n",
       "      <td>Petter Mattei's \"Love in the Time of Money\" is...</td>\n",
       "      <td>positive</td>\n",
       "    </tr>\n",
       "    <tr>\n",
       "      <th>...</th>\n",
       "      <td>...</td>\n",
       "      <td>...</td>\n",
       "    </tr>\n",
       "    <tr>\n",
       "      <th>49995</th>\n",
       "      <td>I thought this movie did a down right good job...</td>\n",
       "      <td>positive</td>\n",
       "    </tr>\n",
       "    <tr>\n",
       "      <th>49996</th>\n",
       "      <td>Bad plot, bad dialogue, bad acting, idiotic di...</td>\n",
       "      <td>negative</td>\n",
       "    </tr>\n",
       "    <tr>\n",
       "      <th>49997</th>\n",
       "      <td>I am a Catholic taught in parochial elementary...</td>\n",
       "      <td>negative</td>\n",
       "    </tr>\n",
       "    <tr>\n",
       "      <th>49998</th>\n",
       "      <td>I'm going to have to disagree with the previou...</td>\n",
       "      <td>negative</td>\n",
       "    </tr>\n",
       "    <tr>\n",
       "      <th>49999</th>\n",
       "      <td>No one expects the Star Trek movies to be high...</td>\n",
       "      <td>negative</td>\n",
       "    </tr>\n",
       "  </tbody>\n",
       "</table>\n",
       "<p>50000 rows × 2 columns</p>\n",
       "</div>"
      ],
      "text/plain": [
       "                                                  review sentiment\n",
       "0      One of the other reviewers has mentioned that ...  positive\n",
       "1      A wonderful little production. <br /><br />The...  positive\n",
       "2      I thought this was a wonderful way to spend ti...  positive\n",
       "3      Basically there's a family where a little boy ...  negative\n",
       "4      Petter Mattei's \"Love in the Time of Money\" is...  positive\n",
       "...                                                  ...       ...\n",
       "49995  I thought this movie did a down right good job...  positive\n",
       "49996  Bad plot, bad dialogue, bad acting, idiotic di...  negative\n",
       "49997  I am a Catholic taught in parochial elementary...  negative\n",
       "49998  I'm going to have to disagree with the previou...  negative\n",
       "49999  No one expects the Star Trek movies to be high...  negative\n",
       "\n",
       "[50000 rows x 2 columns]"
      ]
     },
     "execution_count": 2,
     "metadata": {},
     "output_type": "execute_result"
    }
   ],
   "source": [
    "df = pd.read_csv(\"/Users/MacBook/Desktop/RNN/data/IMDB Dataset.csv\")\n",
    "df"
   ]
  },
  {
   "cell_type": "markdown",
   "metadata": {},
   "source": [
    "# Data Processing — convert to lower case"
   ]
  },
  {
   "cell_type": "code",
   "execution_count": 3,
   "metadata": {
    "ExecuteTime": {
     "end_time": "2024-05-05T09:38:40.673208Z",
     "start_time": "2024-05-05T09:38:40.611523Z"
    }
   },
   "outputs": [],
   "source": [
    "df['review'] = df['review'].apply(lambda x:x.lower())"
   ]
  },
  {
   "cell_type": "code",
   "execution_count": 4,
   "metadata": {
    "ExecuteTime": {
     "end_time": "2024-05-05T09:38:42.517005Z",
     "start_time": "2024-05-05T09:38:42.507887Z"
    }
   },
   "outputs": [
    {
     "data": {
      "text/plain": [
       "\"one of the other reviewers has mentioned that after watching just 1 oz episode you'll be hooked. they are right, as this is exactly what happened with me.<br /><br />the first thing that struck me about oz was its brutality and unflinching scenes of violence, which set in right from the word go. trust me, this is not a show for the faint hearted or timid. this show pulls no punches with regards to drugs, sex or violence. its is hardcore, in the classic use of the word.<br /><br />it is called oz as that is the nickname given to the oswald maximum security state penitentary. it focuses mainly on emerald city, an experimental section of the prison where all the cells have glass fronts and face inwards, so privacy is not high on the agenda. em city is home to many..aryans, muslims, gangstas, latinos, christians, italians, irish and more....so scuffles, death stares, dodgy dealings and shady agreements are never far away.<br /><br />i would say the main appeal of the show is due to the fact that it goes where other shows wouldn't dare. forget pretty pictures painted for mainstream audiences, forget charm, forget romance...oz doesn't mess around. the first episode i ever saw struck me as so nasty it was surreal, i couldn't say i was ready for it, but as i watched more, i developed a taste for oz, and got accustomed to the high levels of graphic violence. not just violence, but injustice (crooked guards who'll be sold out for a nickel, inmates who'll kill on order and get away with it, well mannered, middle class inmates being turned into prison bitches due to their lack of street skills or prison experience) watching oz, you may become comfortable with what is uncomfortable viewing....thats if you can get in touch with your darker side.\""
      ]
     },
     "execution_count": 4,
     "metadata": {},
     "output_type": "execute_result"
    }
   ],
   "source": [
    "df['review'][0]"
   ]
  },
  {
   "cell_type": "markdown",
   "metadata": {},
   "source": [
    "# Data Processing — remove punctuation"
   ]
  },
  {
   "cell_type": "code",
   "execution_count": 5,
   "metadata": {
    "ExecuteTime": {
     "end_time": "2024-05-05T09:38:50.550255Z",
     "start_time": "2024-05-05T09:38:50.543582Z"
    }
   },
   "outputs": [
    {
     "name": "stdout",
     "output_type": "stream",
     "text": [
      "!\"#$%&'()*+,-./:;<=>?@[\\]^_`{|}~\n"
     ]
    }
   ],
   "source": [
    "from string import punctuation\n",
    "print(punctuation)"
   ]
  },
  {
   "cell_type": "code",
   "execution_count": 6,
   "metadata": {
    "ExecuteTime": {
     "end_time": "2024-05-05T09:39:09.316094Z",
     "start_time": "2024-05-05T09:39:07.689443Z"
    }
   },
   "outputs": [],
   "source": [
    "df['clean_text'] = df['review'].apply(lambda x:''.join([c for c in x if c not in punctuation]))"
   ]
  },
  {
   "cell_type": "code",
   "execution_count": 7,
   "metadata": {
    "ExecuteTime": {
     "end_time": "2024-05-05T09:39:10.266945Z",
     "start_time": "2024-05-05T09:39:10.261864Z"
    }
   },
   "outputs": [
    {
     "data": {
      "text/plain": [
       "'one of the other reviewers has mentioned that after watching just 1 oz episode youll be hooked they are right as this is exactly what happened with mebr br the first thing that struck me about oz was its brutality and unflinching scenes of violence which set in right from the word go trust me this is not a show for the faint hearted or timid this show pulls no punches with regards to drugs sex or violence its is hardcore in the classic use of the wordbr br it is called oz as that is the nickname given to the oswald maximum security state penitentary it focuses mainly on emerald city an experimental section of the prison where all the cells have glass fronts and face inwards so privacy is not high on the agenda em city is home to manyaryans muslims gangstas latinos christians italians irish and moreso scuffles death stares dodgy dealings and shady agreements are never far awaybr br i would say the main appeal of the show is due to the fact that it goes where other shows wouldnt dare forget pretty pictures painted for mainstream audiences forget charm forget romanceoz doesnt mess around the first episode i ever saw struck me as so nasty it was surreal i couldnt say i was ready for it but as i watched more i developed a taste for oz and got accustomed to the high levels of graphic violence not just violence but injustice crooked guards wholl be sold out for a nickel inmates wholl kill on order and get away with it well mannered middle class inmates being turned into prison bitches due to their lack of street skills or prison experience watching oz you may become comfortable with what is uncomfortable viewingthats if you can get in touch with your darker side'"
      ]
     },
     "execution_count": 7,
     "metadata": {},
     "output_type": "execute_result"
    }
   ],
   "source": [
    "df['clean_text'][0]"
   ]
  },
  {
   "cell_type": "code",
   "execution_count": 8,
   "metadata": {
    "ExecuteTime": {
     "end_time": "2024-05-05T09:39:16.426102Z",
     "start_time": "2024-05-05T09:39:16.405742Z"
    }
   },
   "outputs": [],
   "source": [
    "df['len_review'] = df['clean_text'].apply(lambda x:len(x))"
   ]
  },
  {
   "cell_type": "code",
   "execution_count": 9,
   "metadata": {
    "ExecuteTime": {
     "end_time": "2024-05-05T09:39:17.947973Z",
     "start_time": "2024-05-05T09:39:17.925447Z"
    }
   },
   "outputs": [
    {
     "data": {
      "text/html": [
       "<div>\n",
       "<style scoped>\n",
       "    .dataframe tbody tr th:only-of-type {\n",
       "        vertical-align: middle;\n",
       "    }\n",
       "\n",
       "    .dataframe tbody tr th {\n",
       "        vertical-align: top;\n",
       "    }\n",
       "\n",
       "    .dataframe thead th {\n",
       "        text-align: right;\n",
       "    }\n",
       "</style>\n",
       "<table border=\"1\" class=\"dataframe\">\n",
       "  <thead>\n",
       "    <tr style=\"text-align: right;\">\n",
       "      <th></th>\n",
       "      <th>review</th>\n",
       "      <th>sentiment</th>\n",
       "      <th>clean_text</th>\n",
       "      <th>len_review</th>\n",
       "    </tr>\n",
       "  </thead>\n",
       "  <tbody>\n",
       "    <tr>\n",
       "      <th>0</th>\n",
       "      <td>one of the other reviewers has mentioned that ...</td>\n",
       "      <td>positive</td>\n",
       "      <td>one of the other reviewers has mentioned that ...</td>\n",
       "      <td>1683</td>\n",
       "    </tr>\n",
       "    <tr>\n",
       "      <th>1</th>\n",
       "      <td>a wonderful little production. &lt;br /&gt;&lt;br /&gt;the...</td>\n",
       "      <td>positive</td>\n",
       "      <td>a wonderful little production br br the filmin...</td>\n",
       "      <td>954</td>\n",
       "    </tr>\n",
       "    <tr>\n",
       "      <th>2</th>\n",
       "      <td>i thought this was a wonderful way to spend ti...</td>\n",
       "      <td>positive</td>\n",
       "      <td>i thought this was a wonderful way to spend ti...</td>\n",
       "      <td>886</td>\n",
       "    </tr>\n",
       "    <tr>\n",
       "      <th>3</th>\n",
       "      <td>basically there's a family where a little boy ...</td>\n",
       "      <td>negative</td>\n",
       "      <td>basically theres a family where a little boy j...</td>\n",
       "      <td>706</td>\n",
       "    </tr>\n",
       "    <tr>\n",
       "      <th>4</th>\n",
       "      <td>petter mattei's \"love in the time of money\" is...</td>\n",
       "      <td>positive</td>\n",
       "      <td>petter matteis love in the time of money is a ...</td>\n",
       "      <td>1261</td>\n",
       "    </tr>\n",
       "    <tr>\n",
       "      <th>...</th>\n",
       "      <td>...</td>\n",
       "      <td>...</td>\n",
       "      <td>...</td>\n",
       "      <td>...</td>\n",
       "    </tr>\n",
       "    <tr>\n",
       "      <th>49995</th>\n",
       "      <td>i thought this movie did a down right good job...</td>\n",
       "      <td>positive</td>\n",
       "      <td>i thought this movie did a down right good job...</td>\n",
       "      <td>962</td>\n",
       "    </tr>\n",
       "    <tr>\n",
       "      <th>49996</th>\n",
       "      <td>bad plot, bad dialogue, bad acting, idiotic di...</td>\n",
       "      <td>negative</td>\n",
       "      <td>bad plot bad dialogue bad acting idiotic direc...</td>\n",
       "      <td>616</td>\n",
       "    </tr>\n",
       "    <tr>\n",
       "      <th>49997</th>\n",
       "      <td>i am a catholic taught in parochial elementary...</td>\n",
       "      <td>negative</td>\n",
       "      <td>i am a catholic taught in parochial elementary...</td>\n",
       "      <td>1235</td>\n",
       "    </tr>\n",
       "    <tr>\n",
       "      <th>49998</th>\n",
       "      <td>i'm going to have to disagree with the previou...</td>\n",
       "      <td>negative</td>\n",
       "      <td>im going to have to disagree with the previous...</td>\n",
       "      <td>1206</td>\n",
       "    </tr>\n",
       "    <tr>\n",
       "      <th>49999</th>\n",
       "      <td>no one expects the star trek movies to be high...</td>\n",
       "      <td>negative</td>\n",
       "      <td>no one expects the star trek movies to be high...</td>\n",
       "      <td>654</td>\n",
       "    </tr>\n",
       "  </tbody>\n",
       "</table>\n",
       "<p>50000 rows × 4 columns</p>\n",
       "</div>"
      ],
      "text/plain": [
       "                                                  review sentiment  \\\n",
       "0      one of the other reviewers has mentioned that ...  positive   \n",
       "1      a wonderful little production. <br /><br />the...  positive   \n",
       "2      i thought this was a wonderful way to spend ti...  positive   \n",
       "3      basically there's a family where a little boy ...  negative   \n",
       "4      petter mattei's \"love in the time of money\" is...  positive   \n",
       "...                                                  ...       ...   \n",
       "49995  i thought this movie did a down right good job...  positive   \n",
       "49996  bad plot, bad dialogue, bad acting, idiotic di...  negative   \n",
       "49997  i am a catholic taught in parochial elementary...  negative   \n",
       "49998  i'm going to have to disagree with the previou...  negative   \n",
       "49999  no one expects the star trek movies to be high...  negative   \n",
       "\n",
       "                                              clean_text  len_review  \n",
       "0      one of the other reviewers has mentioned that ...        1683  \n",
       "1      a wonderful little production br br the filmin...         954  \n",
       "2      i thought this was a wonderful way to spend ti...         886  \n",
       "3      basically theres a family where a little boy j...         706  \n",
       "4      petter matteis love in the time of money is a ...        1261  \n",
       "...                                                  ...         ...  \n",
       "49995  i thought this movie did a down right good job...         962  \n",
       "49996  bad plot bad dialogue bad acting idiotic direc...         616  \n",
       "49997  i am a catholic taught in parochial elementary...        1235  \n",
       "49998  im going to have to disagree with the previous...        1206  \n",
       "49999  no one expects the star trek movies to be high...         654  \n",
       "\n",
       "[50000 rows x 4 columns]"
      ]
     },
     "execution_count": 9,
     "metadata": {},
     "output_type": "execute_result"
    }
   ],
   "source": [
    "df"
   ]
  },
  {
   "cell_type": "markdown",
   "metadata": {},
   "source": [
    "#  Data Processing — create list of reviews"
   ]
  },
  {
   "cell_type": "code",
   "execution_count": 10,
   "metadata": {
    "ExecuteTime": {
     "end_time": "2024-05-05T09:40:03.986318Z",
     "start_time": "2024-05-05T09:40:03.963962Z"
    }
   },
   "outputs": [
    {
     "data": {
      "text/plain": [
       "['one of the other reviewers has mentioned that after watching just 1 oz episode youll be hooked they are right as this is exactly what happened with mebr br the first thing that struck me about oz was its brutality and unflinching scenes of violence which set in right from the word go trust me this is not a show for the faint hearted or timid this show pulls no punches with regards to drugs sex or violence its is hardcore in the classic use of the wordbr br it is called oz as that is the nickname given to the oswald maximum security state penitentary it focuses mainly on emerald city an experimental section of the prison where all the cells have glass fronts and face inwards so privacy is not high on the agenda em city is home to manyaryans muslims gangstas latinos christians italians irish and moreso scuffles death stares dodgy dealings and shady agreements are never far awaybr br i would say the main appeal of the show is due to the fact that it goes where other shows wouldnt dare forget pretty pictures painted for mainstream audiences forget charm forget romanceoz doesnt mess around the first episode i ever saw struck me as so nasty it was surreal i couldnt say i was ready for it but as i watched more i developed a taste for oz and got accustomed to the high levels of graphic violence not just violence but injustice crooked guards wholl be sold out for a nickel inmates wholl kill on order and get away with it well mannered middle class inmates being turned into prison bitches due to their lack of street skills or prison experience watching oz you may become comfortable with what is uncomfortable viewingthats if you can get in touch with your darker side',\n",
       " 'a wonderful little production br br the filming technique is very unassuming very oldtimebbc fashion and gives a comforting and sometimes discomforting sense of realism to the entire piece br br the actors are extremely well chosen michael sheen not only has got all the polari but he has all the voices down pat too you can truly see the seamless editing guided by the references to williams diary entries not only is it well worth the watching but it is a terrificly written and performed piece a masterful production about one of the great masters of comedy and his life br br the realism really comes home with the little things the fantasy of the guard which rather than use the traditional dream techniques remains solid then disappears it plays on our knowledge and our senses particularly with the scenes concerning orton and halliwell and the sets particularly of their flat with halliwells murals decorating every surface are terribly well done']"
      ]
     },
     "execution_count": 10,
     "metadata": {},
     "output_type": "execute_result"
    }
   ],
   "source": [
    "all_text2 = df['clean_text'].tolist()\n",
    "all_text2[0:2]"
   ]
  },
  {
   "cell_type": "markdown",
   "metadata": {},
   "source": [
    "### Tokenize — Create Vocab to Int mapping dictionary"
   ]
  },
  {
   "cell_type": "code",
   "execution_count": 11,
   "metadata": {
    "ExecuteTime": {
     "end_time": "2024-05-05T09:40:37.966900Z",
     "start_time": "2024-05-05T09:40:37.965453Z"
    }
   },
   "outputs": [],
   "source": [
    "from collections import Counter\n",
    "all_text2 = ' '.join(all_text2)\n",
    "# create a list of words\n",
    "words = all_text2.split()"
   ]
  },
  {
   "cell_type": "code",
   "execution_count": 12,
   "metadata": {
    "ExecuteTime": {
     "end_time": "2024-05-05T09:41:24.423655Z",
     "start_time": "2024-05-05T09:41:24.335370Z"
    }
   },
   "outputs": [],
   "source": [
    "# Count all the words using Counter Method\n",
    "count_words = Counter(words)\n",
    "\n",
    "total_words = len(words)\n",
    "sorted_words = count_words.most_common(total_words)"
   ]
  },
  {
   "cell_type": "code",
   "execution_count": 13,
   "metadata": {
    "ExecuteTime": {
     "end_time": "2024-05-05T09:41:59.482559Z",
     "start_time": "2024-05-05T09:41:59.473927Z"
    }
   },
   "outputs": [],
   "source": [
    "#vocab_to_int = {w:i for i, (w,c) in enumerate(sorted_words)}"
   ]
  },
  {
   "cell_type": "code",
   "execution_count": 14,
   "metadata": {
    "ExecuteTime": {
     "end_time": "2024-05-05T09:42:00.271329Z",
     "start_time": "2024-05-05T09:42:00.269670Z"
    }
   },
   "outputs": [],
   "source": [
    "vocab_to_int = {w:i+1 for i, (w,c) in enumerate(sorted_words)}"
   ]
  },
  {
   "cell_type": "code",
   "execution_count": 15,
   "metadata": {
    "ExecuteTime": {
     "end_time": "2024-05-05T09:42:01.372695Z",
     "start_time": "2024-05-05T09:42:01.360434Z"
    },
    "collapsed": false,
    "jupyter": {
     "outputs_hidden": false
    }
   },
   "outputs": [
    {
     "data": {
      "text/plain": [
       "{'the': 1,\n",
       " 'and': 2,\n",
       " 'a': 3,\n",
       " 'of': 4,\n",
       " 'to': 5,\n",
       " 'is': 6,\n",
       " 'in': 7,\n",
       " 'it': 8,\n",
       " 'i': 9,\n",
       " 'this': 10,\n",
       " 'that': 11,\n",
       " 'br': 12,\n",
       " 'was': 13,\n",
       " 'as': 14,\n",
       " 'with': 15,\n",
       " 'for': 16,\n",
       " 'movie': 17,\n",
       " 'but': 18,\n",
       " 'film': 19,\n",
       " 'on': 20,\n",
       " 'not': 21,\n",
       " 'you': 22,\n",
       " 'are': 23,\n",
       " 'his': 24,\n",
       " 'have': 25,\n",
       " 'be': 26,\n",
       " 'he': 27,\n",
       " 'one': 28,\n",
       " 'its': 29,\n",
       " 'at': 30,\n",
       " 'all': 31,\n",
       " 'by': 32,\n",
       " 'an': 33,\n",
       " 'they': 34,\n",
       " 'from': 35,\n",
       " 'who': 36,\n",
       " 'so': 37,\n",
       " 'like': 38,\n",
       " 'or': 39,\n",
       " 'just': 40,\n",
       " 'her': 41,\n",
       " 'about': 42,\n",
       " 'if': 43,\n",
       " 'has': 44,\n",
       " 'out': 45,\n",
       " 'some': 46,\n",
       " 'there': 47,\n",
       " 'what': 48,\n",
       " 'good': 49,\n",
       " 'when': 50,\n",
       " 'more': 51,\n",
       " 'very': 52,\n",
       " 'my': 53,\n",
       " 'even': 54,\n",
       " 'no': 55,\n",
       " 'up': 56,\n",
       " 'would': 57,\n",
       " 'she': 58,\n",
       " 'time': 59,\n",
       " 'only': 60,\n",
       " 'which': 61,\n",
       " 'really': 62,\n",
       " 'their': 63,\n",
       " 'see': 64,\n",
       " 'were': 65,\n",
       " 'story': 66,\n",
       " 'had': 67,\n",
       " 'can': 68,\n",
       " 'me': 69,\n",
       " 'than': 70,\n",
       " 'we': 71,\n",
       " 'much': 72,\n",
       " 'well': 73,\n",
       " 'been': 74,\n",
       " 'get': 75,\n",
       " 'will': 76,\n",
       " 'other': 77,\n",
       " 'do': 78,\n",
       " 'great': 79,\n",
       " 'also': 80,\n",
       " 'into': 81,\n",
       " 'bad': 82,\n",
       " 'because': 83,\n",
       " 'people': 84,\n",
       " 'how': 85,\n",
       " 'most': 86,\n",
       " 'first': 87,\n",
       " 'him': 88,\n",
       " 'dont': 89,\n",
       " 'then': 90,\n",
       " 'movies': 91,\n",
       " 'made': 92,\n",
       " 'them': 93,\n",
       " 'make': 94,\n",
       " 'films': 95,\n",
       " 'could': 96,\n",
       " 'any': 97,\n",
       " 'way': 98,\n",
       " 'too': 99,\n",
       " 'after': 100,\n",
       " 'characters': 101,\n",
       " 'think': 102,\n",
       " 'watch': 103,\n",
       " 'many': 104,\n",
       " 'seen': 105,\n",
       " 'being': 106,\n",
       " 'two': 107,\n",
       " 'character': 108,\n",
       " 'never': 109,\n",
       " 'love': 110,\n",
       " 'acting': 111,\n",
       " 'where': 112,\n",
       " 'did': 113,\n",
       " 'plot': 114,\n",
       " 'little': 115,\n",
       " 'best': 116,\n",
       " 'know': 117,\n",
       " 'show': 118,\n",
       " 'life': 119,\n",
       " 'ever': 120,\n",
       " 'does': 121,\n",
       " 'your': 122,\n",
       " 'better': 123,\n",
       " 'off': 124,\n",
       " 'still': 125,\n",
       " 'these': 126,\n",
       " 'over': 127,\n",
       " 'say': 128,\n",
       " 'end': 129,\n",
       " 'scene': 130,\n",
       " 'man': 131,\n",
       " 'why': 132,\n",
       " 'while': 133,\n",
       " 'scenes': 134,\n",
       " 'here': 135,\n",
       " 'such': 136,\n",
       " 'something': 137,\n",
       " 'go': 138,\n",
       " 'should': 139,\n",
       " 'through': 140,\n",
       " 'im': 141,\n",
       " 'those': 142,\n",
       " 'back': 143,\n",
       " 'real': 144,\n",
       " 'watching': 145,\n",
       " 'thing': 146,\n",
       " 'now': 147,\n",
       " 'doesnt': 148,\n",
       " 'didnt': 149,\n",
       " 'actors': 150,\n",
       " 'years': 151,\n",
       " 'another': 152,\n",
       " 'though': 153,\n",
       " 'actually': 154,\n",
       " 'funny': 155,\n",
       " 'before': 156,\n",
       " 'makes': 157,\n",
       " 'nothing': 158,\n",
       " 'find': 159,\n",
       " 'look': 160,\n",
       " 'going': 161,\n",
       " 'same': 162,\n",
       " 'work': 163,\n",
       " 'lot': 164,\n",
       " 'new': 165,\n",
       " 'every': 166,\n",
       " 'few': 167,\n",
       " 'old': 168,\n",
       " 'us': 169,\n",
       " 'part': 170,\n",
       " 'cant': 171,\n",
       " 'director': 172,\n",
       " 'again': 173,\n",
       " 'thats': 174,\n",
       " 'want': 175,\n",
       " 'quite': 176,\n",
       " 'things': 177,\n",
       " 'pretty': 178,\n",
       " 'cast': 179,\n",
       " 'seems': 180,\n",
       " 'around': 181,\n",
       " 'young': 182,\n",
       " 'got': 183,\n",
       " 'down': 184,\n",
       " 'take': 185,\n",
       " 'however': 186,\n",
       " 'fact': 187,\n",
       " 'world': 188,\n",
       " 'enough': 189,\n",
       " 'both': 190,\n",
       " 'big': 191,\n",
       " 'give': 192,\n",
       " 'horror': 193,\n",
       " 'thought': 194,\n",
       " 'ive': 195,\n",
       " 'may': 196,\n",
       " 'between': 197,\n",
       " 'own': 198,\n",
       " 'without': 199,\n",
       " 'long': 200,\n",
       " 'saw': 201,\n",
       " 'isnt': 202,\n",
       " 'always': 203,\n",
       " 'gets': 204,\n",
       " 'right': 205,\n",
       " 'music': 206,\n",
       " 'original': 207,\n",
       " 'almost': 208,\n",
       " 'must': 209,\n",
       " 'come': 210,\n",
       " 'theres': 211,\n",
       " 'series': 212,\n",
       " 'comedy': 213,\n",
       " 'times': 214,\n",
       " 'whole': 215,\n",
       " 'role': 216,\n",
       " 'least': 217,\n",
       " 'interesting': 218,\n",
       " 'guy': 219,\n",
       " 'action': 220,\n",
       " 'point': 221,\n",
       " 'bit': 222,\n",
       " 'done': 223,\n",
       " 'far': 224,\n",
       " 'might': 225,\n",
       " 'am': 226,\n",
       " 'hes': 227,\n",
       " 'minutes': 228,\n",
       " 'script': 229,\n",
       " 'feel': 230,\n",
       " 'since': 231,\n",
       " 'anything': 232,\n",
       " 'last': 233,\n",
       " 'probably': 234,\n",
       " 'family': 235,\n",
       " 'kind': 236,\n",
       " 'performance': 237,\n",
       " 'tv': 238,\n",
       " 'yet': 239,\n",
       " 'away': 240,\n",
       " 'rather': 241,\n",
       " 'worst': 242,\n",
       " 'sure': 243,\n",
       " 'each': 244,\n",
       " 'anyone': 245,\n",
       " 'fun': 246,\n",
       " 'found': 247,\n",
       " 'played': 248,\n",
       " 'our': 249,\n",
       " 'girl': 250,\n",
       " 'making': 251,\n",
       " 'believe': 252,\n",
       " 'although': 253,\n",
       " 'woman': 254,\n",
       " 'having': 255,\n",
       " 'trying': 256,\n",
       " 'shows': 257,\n",
       " 'especially': 258,\n",
       " 'course': 259,\n",
       " 'comes': 260,\n",
       " 'hard': 261,\n",
       " 'goes': 262,\n",
       " 'everything': 263,\n",
       " 'put': 264,\n",
       " 'day': 265,\n",
       " 'worth': 266,\n",
       " 'maybe': 267,\n",
       " 'looking': 268,\n",
       " 'main': 269,\n",
       " 'different': 270,\n",
       " 'dvd': 271,\n",
       " 'ending': 272,\n",
       " 'place': 273,\n",
       " 'looks': 274,\n",
       " 'wasnt': 275,\n",
       " 'once': 276,\n",
       " 'book': 277,\n",
       " 'watched': 278,\n",
       " 'three': 279,\n",
       " 'sense': 280,\n",
       " 'reason': 281,\n",
       " 'set': 282,\n",
       " '2': 283,\n",
       " 'screen': 284,\n",
       " 'someone': 285,\n",
       " 'true': 286,\n",
       " 'effects': 287,\n",
       " 'plays': 288,\n",
       " 'play': 289,\n",
       " 'job': 290,\n",
       " 'money': 291,\n",
       " 'during': 292,\n",
       " 'together': 293,\n",
       " 'actor': 294,\n",
       " 'said': 295,\n",
       " 'takes': 296,\n",
       " 'seem': 297,\n",
       " '10': 298,\n",
       " 'everyone': 299,\n",
       " 'instead': 300,\n",
       " 'american': 301,\n",
       " 'later': 302,\n",
       " 'special': 303,\n",
       " 'beautiful': 304,\n",
       " 'seeing': 305,\n",
       " 'left': 306,\n",
       " 'audience': 307,\n",
       " 'john': 308,\n",
       " 'himself': 309,\n",
       " 'war': 310,\n",
       " 'excellent': 311,\n",
       " 'version': 312,\n",
       " 'idea': 313,\n",
       " 'night': 314,\n",
       " 'shot': 315,\n",
       " 'black': 316,\n",
       " 'simply': 317,\n",
       " 'youre': 318,\n",
       " 'high': 319,\n",
       " 'fan': 320,\n",
       " 'completely': 321,\n",
       " 'used': 322,\n",
       " 'nice': 323,\n",
       " 'house': 324,\n",
       " 'poor': 325,\n",
       " 'read': 326,\n",
       " 'else': 327,\n",
       " 'wife': 328,\n",
       " 'death': 329,\n",
       " 'kids': 330,\n",
       " 'along': 331,\n",
       " 'short': 332,\n",
       " 'friends': 333,\n",
       " 'help': 334,\n",
       " 'second': 335,\n",
       " 'men': 336,\n",
       " 'mind': 337,\n",
       " 'given': 338,\n",
       " 'star': 339,\n",
       " 'use': 340,\n",
       " 'less': 341,\n",
       " 'try': 342,\n",
       " 'need': 343,\n",
       " 'home': 344,\n",
       " 'enjoy': 345,\n",
       " 'half': 346,\n",
       " 'boring': 347,\n",
       " 'year': 348,\n",
       " 'truly': 349,\n",
       " 'until': 350,\n",
       " 'either': 351,\n",
       " 'classic': 352,\n",
       " 'rest': 353,\n",
       " 'next': 354,\n",
       " 'performances': 355,\n",
       " 'dead': 356,\n",
       " 'recommend': 357,\n",
       " 'production': 358,\n",
       " 'couple': 359,\n",
       " 'wrong': 360,\n",
       " 'stupid': 361,\n",
       " 'hollywood': 362,\n",
       " 'father': 363,\n",
       " 'line': 364,\n",
       " 'start': 365,\n",
       " 'tell': 366,\n",
       " 'let': 367,\n",
       " 'came': 368,\n",
       " 'getting': 369,\n",
       " 'women': 370,\n",
       " 'full': 371,\n",
       " 'remember': 372,\n",
       " 'understand': 373,\n",
       " 'perhaps': 374,\n",
       " 'school': 375,\n",
       " 'keep': 376,\n",
       " 'terrible': 377,\n",
       " 'camera': 378,\n",
       " 'others': 379,\n",
       " 'awful': 380,\n",
       " 'sex': 381,\n",
       " 'moments': 382,\n",
       " 'mean': 383,\n",
       " 'wonderful': 384,\n",
       " 'playing': 385,\n",
       " 'video': 386,\n",
       " 'definitely': 387,\n",
       " 'name': 388,\n",
       " 'itself': 389,\n",
       " 'human': 390,\n",
       " 'gives': 391,\n",
       " 'often': 392,\n",
       " 'episode': 393,\n",
       " 'doing': 394,\n",
       " 'budget': 395,\n",
       " 'small': 396,\n",
       " 'couldnt': 397,\n",
       " 'perfect': 398,\n",
       " 'early': 399,\n",
       " 'person': 400,\n",
       " 'top': 401,\n",
       " 'went': 402,\n",
       " 'absolutely': 403,\n",
       " 'lines': 404,\n",
       " 'dialogue': 405,\n",
       " 'finally': 406,\n",
       " 'piece': 407,\n",
       " 'face': 408,\n",
       " 'guys': 409,\n",
       " 'certainly': 410,\n",
       " 'become': 411,\n",
       " 'liked': 412,\n",
       " 'stars': 413,\n",
       " 'title': 414,\n",
       " 'case': 415,\n",
       " 'loved': 416,\n",
       " 'head': 417,\n",
       " 'sort': 418,\n",
       " 'hope': 419,\n",
       " 'yes': 420,\n",
       " 'entire': 421,\n",
       " 'felt': 422,\n",
       " 'supposed': 423,\n",
       " 'several': 424,\n",
       " 'lost': 425,\n",
       " 'overall': 426,\n",
       " 'written': 427,\n",
       " 'live': 428,\n",
       " 'style': 429,\n",
       " 'mother': 430,\n",
       " 'entertaining': 431,\n",
       " 'worse': 432,\n",
       " '3': 433,\n",
       " 'picture': 434,\n",
       " 'against': 435,\n",
       " 'laugh': 436,\n",
       " 'waste': 437,\n",
       " 'boy': 438,\n",
       " 'problem': 439,\n",
       " 'sound': 440,\n",
       " 'oh': 441,\n",
       " 'mr': 442,\n",
       " 'totally': 443,\n",
       " 'based': 444,\n",
       " 'friend': 445,\n",
       " 'shes': 446,\n",
       " 'beginning': 447,\n",
       " 'seemed': 448,\n",
       " 'wanted': 449,\n",
       " 'cinema': 450,\n",
       " 'dark': 451,\n",
       " 'id': 452,\n",
       " 'despite': 453,\n",
       " 'fans': 454,\n",
       " 'final': 455,\n",
       " 'care': 456,\n",
       " 'becomes': 457,\n",
       " 'already': 458,\n",
       " 'humor': 459,\n",
       " 'wont': 460,\n",
       " 'youll': 461,\n",
       " 'lead': 462,\n",
       " 'direction': 463,\n",
       " 'example': 464,\n",
       " 'guess': 465,\n",
       " 'evil': 466,\n",
       " 'children': 467,\n",
       " 'throughout': 468,\n",
       " 'called': 469,\n",
       " 'lives': 470,\n",
       " 'turn': 471,\n",
       " 'unfortunately': 472,\n",
       " 'able': 473,\n",
       " 'low': 474,\n",
       " 'game': 475,\n",
       " 'drama': 476,\n",
       " 'white': 477,\n",
       " 'wants': 478,\n",
       " '1': 479,\n",
       " 'girls': 480,\n",
       " 'days': 481,\n",
       " 'fine': 482,\n",
       " 'under': 483,\n",
       " '\\x96': 484,\n",
       " 'quality': 485,\n",
       " 'horrible': 486,\n",
       " 'theyre': 487,\n",
       " 'amazing': 488,\n",
       " 'writing': 489,\n",
       " 'history': 490,\n",
       " 'tries': 491,\n",
       " 'michael': 492,\n",
       " 'works': 493,\n",
       " 'kill': 494,\n",
       " 'turns': 495,\n",
       " 'gave': 496,\n",
       " 'enjoyed': 497,\n",
       " 'killer': 498,\n",
       " 'act': 499,\n",
       " 'favorite': 500,\n",
       " 'side': 501,\n",
       " 'son': 502,\n",
       " 'past': 503,\n",
       " 'parts': 504,\n",
       " 'behind': 505,\n",
       " 'flick': 506,\n",
       " 'expect': 507,\n",
       " 'matter': 508,\n",
       " 'brilliant': 509,\n",
       " 'obviously': 510,\n",
       " 'car': 511,\n",
       " 'run': 512,\n",
       " 'town': 513,\n",
       " 'eyes': 514,\n",
       " 'starts': 515,\n",
       " 'stuff': 516,\n",
       " 'ones': 517,\n",
       " 'sometimes': 518,\n",
       " 'directed': 519,\n",
       " 'myself': 520,\n",
       " 'killed': 521,\n",
       " 'soon': 522,\n",
       " 'themselves': 523,\n",
       " 'viewer': 524,\n",
       " 'thinking': 525,\n",
       " 'says': 526,\n",
       " 'took': 527,\n",
       " 'highly': 528,\n",
       " 'group': 529,\n",
       " 'decent': 530,\n",
       " 'ill': 531,\n",
       " 'actress': 532,\n",
       " 'heart': 533,\n",
       " 'late': 534,\n",
       " 'art': 535,\n",
       " 'city': 536,\n",
       " 'heard': 537,\n",
       " 'genre': 538,\n",
       " 'happens': 539,\n",
       " 'feeling': 540,\n",
       " 'except': 541,\n",
       " 'kid': 542,\n",
       " 'hell': 543,\n",
       " 'fight': 544,\n",
       " 'child': 545,\n",
       " 'extremely': 546,\n",
       " 'leave': 547,\n",
       " 'wouldnt': 548,\n",
       " 'lack': 549,\n",
       " 'cannot': 550,\n",
       " 'told': 551,\n",
       " 'blood': 552,\n",
       " 'close': 553,\n",
       " 'police': 554,\n",
       " 'etc': 555,\n",
       " 'coming': 556,\n",
       " 'hour': 557,\n",
       " 'experience': 558,\n",
       " 'moment': 559,\n",
       " 'save': 560,\n",
       " 'wonder': 561,\n",
       " 'looked': 562,\n",
       " 'stories': 563,\n",
       " 'score': 564,\n",
       " 'strong': 565,\n",
       " 'involved': 566,\n",
       " 'particularly': 567,\n",
       " 'hand': 568,\n",
       " 'chance': 569,\n",
       " 'type': 570,\n",
       " 'daughter': 571,\n",
       " 'living': 572,\n",
       " 'including': 573,\n",
       " 'attempt': 574,\n",
       " 'complete': 575,\n",
       " 'ok': 576,\n",
       " 'anyway': 577,\n",
       " 'god': 578,\n",
       " 'taken': 579,\n",
       " 'shown': 580,\n",
       " 'itbr': 581,\n",
       " 'violence': 582,\n",
       " 'serious': 583,\n",
       " 'james': 584,\n",
       " 'simple': 585,\n",
       " 'obvious': 586,\n",
       " 'roles': 587,\n",
       " 'stop': 588,\n",
       " 'hilarious': 589,\n",
       " 'happened': 590,\n",
       " 'happen': 591,\n",
       " 'robert': 592,\n",
       " 'cool': 593,\n",
       " 'murder': 594,\n",
       " 'david': 595,\n",
       " 'voice': 596,\n",
       " 'across': 597,\n",
       " 'lets': 598,\n",
       " 'please': 599,\n",
       " 'known': 600,\n",
       " 'exactly': 601,\n",
       " 'opening': 602,\n",
       " 'song': 603,\n",
       " 'usually': 604,\n",
       " 'ago': 605,\n",
       " 'number': 606,\n",
       " 'saying': 607,\n",
       " 'released': 608,\n",
       " 'slow': 609,\n",
       " 'huge': 610,\n",
       " 'seriously': 611,\n",
       " 'wish': 612,\n",
       " 'none': 613,\n",
       " 'jokes': 614,\n",
       " 'reality': 615,\n",
       " 'whose': 616,\n",
       " 'cinematography': 617,\n",
       " 'interest': 618,\n",
       " 'english': 619,\n",
       " 'order': 620,\n",
       " 'hours': 621,\n",
       " 'sad': 622,\n",
       " 'possible': 623,\n",
       " 'relationship': 624,\n",
       " 'crap': 625,\n",
       " 'alone': 626,\n",
       " 'hit': 627,\n",
       " 'running': 628,\n",
       " '4': 629,\n",
       " 'major': 630,\n",
       " 'shots': 631,\n",
       " 'cut': 632,\n",
       " 'today': 633,\n",
       " 'talent': 634,\n",
       " 'annoying': 635,\n",
       " 'gore': 636,\n",
       " 'call': 637,\n",
       " 'started': 638,\n",
       " 'age': 639,\n",
       " 'yourself': 640,\n",
       " '5': 641,\n",
       " 'career': 642,\n",
       " 'taking': 643,\n",
       " 'female': 644,\n",
       " 'brother': 645,\n",
       " 'somewhat': 646,\n",
       " 'ridiculous': 647,\n",
       " 'beyond': 648,\n",
       " 'mostly': 649,\n",
       " 'hero': 650,\n",
       " 'ends': 651,\n",
       " 'usual': 652,\n",
       " 'knew': 653,\n",
       " 'important': 654,\n",
       " 'change': 655,\n",
       " 'view': 656,\n",
       " 'knows': 657,\n",
       " 'documentary': 658,\n",
       " 'body': 659,\n",
       " 'turned': 660,\n",
       " 'finds': 661,\n",
       " 'apparently': 662,\n",
       " 'power': 663,\n",
       " 'basically': 664,\n",
       " 'opinion': 665,\n",
       " 'words': 666,\n",
       " 'silly': 667,\n",
       " 'due': 668,\n",
       " 'strange': 669,\n",
       " 'word': 670,\n",
       " 'novel': 671,\n",
       " 'upon': 672,\n",
       " 'husband': 673,\n",
       " 'scary': 674,\n",
       " 'talking': 675,\n",
       " 'clearly': 676,\n",
       " 'local': 677,\n",
       " 'happy': 678,\n",
       " 'directors': 679,\n",
       " 'rating': 680,\n",
       " 'attention': 681,\n",
       " 'four': 682,\n",
       " 'whats': 683,\n",
       " 'cheap': 684,\n",
       " 'episodes': 685,\n",
       " 'country': 686,\n",
       " 'musical': 687,\n",
       " 'arent': 688,\n",
       " 'moviebr': 689,\n",
       " 'room': 690,\n",
       " 'level': 691,\n",
       " 'single': 692,\n",
       " 'problems': 693,\n",
       " 'disappointed': 694,\n",
       " 'jack': 695,\n",
       " 'television': 696,\n",
       " 'british': 697,\n",
       " 'tells': 698,\n",
       " 'events': 699,\n",
       " 'miss': 700,\n",
       " 'sequence': 701,\n",
       " 'talk': 702,\n",
       " 'modern': 703,\n",
       " 'whether': 704,\n",
       " 'add': 705,\n",
       " 'light': 706,\n",
       " 'songs': 707,\n",
       " 'french': 708,\n",
       " 'easily': 709,\n",
       " 'lots': 710,\n",
       " 'bring': 711,\n",
       " 'appears': 712,\n",
       " 'sets': 713,\n",
       " 'predictable': 714,\n",
       " 'giving': 715,\n",
       " 'havent': 716,\n",
       " 'review': 717,\n",
       " 'supporting': 718,\n",
       " 'dialog': 719,\n",
       " 'mention': 720,\n",
       " 'similar': 721,\n",
       " 'falls': 722,\n",
       " 'ten': 723,\n",
       " 'george': 724,\n",
       " 'soundtrack': 725,\n",
       " 'viewers': 726,\n",
       " 'needs': 727,\n",
       " 'above': 728,\n",
       " 'romantic': 729,\n",
       " 'five': 730,\n",
       " 'bunch': 731,\n",
       " 'within': 732,\n",
       " 'team': 733,\n",
       " 'certain': 734,\n",
       " 'enjoyable': 735,\n",
       " 'showing': 736,\n",
       " 'future': 737,\n",
       " 'hate': 738,\n",
       " 'filmbr': 739,\n",
       " 'moving': 740,\n",
       " 'entertainment': 741,\n",
       " 'tried': 742,\n",
       " 'message': 743,\n",
       " 'surprised': 744,\n",
       " 'parents': 745,\n",
       " 'earth': 746,\n",
       " 'comic': 747,\n",
       " 'among': 748,\n",
       " 'clear': 749,\n",
       " 'space': 750,\n",
       " 'filmed': 751,\n",
       " 'storyline': 752,\n",
       " 'middle': 753,\n",
       " 'sorry': 754,\n",
       " 'dull': 755,\n",
       " 'named': 756,\n",
       " 'theme': 757,\n",
       " 'fall': 758,\n",
       " 'stay': 759,\n",
       " 'easy': 760,\n",
       " 'king': 761,\n",
       " 'sequel': 762,\n",
       " 'using': 763,\n",
       " 'theater': 764,\n",
       " 'typical': 765,\n",
       " 'comments': 766,\n",
       " 'ways': 767,\n",
       " 'feels': 768,\n",
       " 'near': 769,\n",
       " 'kept': 770,\n",
       " 'release': 771,\n",
       " 'buy': 772,\n",
       " 'thriller': 773,\n",
       " 'gone': 774,\n",
       " 'greatest': 775,\n",
       " 'writer': 776,\n",
       " 'nearly': 777,\n",
       " 'working': 778,\n",
       " 'doubt': 779,\n",
       " 'effort': 780,\n",
       " 'actual': 781,\n",
       " 'avoid': 782,\n",
       " 'deal': 783,\n",
       " 'monster': 784,\n",
       " 'means': 785,\n",
       " 'elements': 786,\n",
       " 'dr': 787,\n",
       " 'peter': 788,\n",
       " 'richard': 789,\n",
       " 'tale': 790,\n",
       " 'imagine': 791,\n",
       " 'suspense': 792,\n",
       " 'fantastic': 793,\n",
       " 'subject': 794,\n",
       " 'brought': 795,\n",
       " 'straight': 796,\n",
       " 'editing': 797,\n",
       " '80s': 798,\n",
       " 'famous': 799,\n",
       " 'die': 800,\n",
       " 'youve': 801,\n",
       " 'rock': 802,\n",
       " 'lady': 803,\n",
       " 'boys': 804,\n",
       " 'realistic': 805,\n",
       " 'herself': 806,\n",
       " 'general': 807,\n",
       " 'points': 808,\n",
       " 'sister': 809,\n",
       " 'leads': 810,\n",
       " 'feature': 811,\n",
       " 'viewing': 812,\n",
       " 'move': 813,\n",
       " 'somehow': 814,\n",
       " 'check': 815,\n",
       " 'class': 816,\n",
       " 'okay': 817,\n",
       " 'form': 818,\n",
       " 'forget': 819,\n",
       " 'mystery': 820,\n",
       " 'begins': 821,\n",
       " 'reviews': 822,\n",
       " 'hear': 823,\n",
       " 'material': 824,\n",
       " 'rent': 825,\n",
       " 'dog': 826,\n",
       " 'eventually': 827,\n",
       " 'learn': 828,\n",
       " 'paul': 829,\n",
       " 'animation': 830,\n",
       " 'sit': 831,\n",
       " 'whos': 832,\n",
       " 'figure': 833,\n",
       " 'tom': 834,\n",
       " 'particular': 835,\n",
       " 'weak': 836,\n",
       " 'premise': 837,\n",
       " 'surprise': 838,\n",
       " 'period': 839,\n",
       " 'believable': 840,\n",
       " 'killing': 841,\n",
       " 'sequences': 842,\n",
       " 'expected': 843,\n",
       " 'decided': 844,\n",
       " 'red': 845,\n",
       " 'atmosphere': 846,\n",
       " 'crime': 847,\n",
       " 'wait': 848,\n",
       " 'fast': 849,\n",
       " 'eye': 850,\n",
       " 'difficult': 851,\n",
       " 'york': 852,\n",
       " 'indeed': 853,\n",
       " 'deep': 854,\n",
       " 'leaves': 855,\n",
       " 'possibly': 856,\n",
       " 'truth': 857,\n",
       " 'became': 858,\n",
       " 'average': 859,\n",
       " 'emotional': 860,\n",
       " 'poorly': 861,\n",
       " 'shame': 862,\n",
       " 'lame': 863,\n",
       " 'situation': 864,\n",
       " 'follow': 865,\n",
       " 'whatever': 866,\n",
       " 'forced': 867,\n",
       " 'meet': 868,\n",
       " 'dance': 869,\n",
       " 'stand': 870,\n",
       " 'needed': 871,\n",
       " 'footage': 872,\n",
       " 'note': 873,\n",
       " 'unless': 874,\n",
       " 'season': 875,\n",
       " 'begin': 876,\n",
       " 'open': 877,\n",
       " 'memorable': 878,\n",
       " 'third': 879,\n",
       " 'crew': 880,\n",
       " 'scifi': 881,\n",
       " 'reading': 882,\n",
       " 'oscar': 883,\n",
       " 'minute': 884,\n",
       " 'sexual': 885,\n",
       " 'otherwise': 886,\n",
       " 'writers': 887,\n",
       " 'meets': 888,\n",
       " 'features': 889,\n",
       " 'write': 890,\n",
       " 'previous': 891,\n",
       " 'doctor': 892,\n",
       " 'question': 893,\n",
       " 'filmmakers': 894,\n",
       " 'interested': 895,\n",
       " 'whom': 896,\n",
       " 'romance': 897,\n",
       " 'beauty': 898,\n",
       " 'nor': 899,\n",
       " 'gay': 900,\n",
       " 'credits': 901,\n",
       " 'cheesy': 902,\n",
       " 'imdb': 903,\n",
       " 'personal': 904,\n",
       " 'hot': 905,\n",
       " 'total': 906,\n",
       " 'keeps': 907,\n",
       " 'superb': 908,\n",
       " 'towards': 909,\n",
       " 'western': 910,\n",
       " 'inside': 911,\n",
       " 'sounds': 912,\n",
       " 'nature': 913,\n",
       " 'hands': 914,\n",
       " 'plus': 915,\n",
       " 'male': 916,\n",
       " 'society': 917,\n",
       " 'perfectly': 918,\n",
       " 'incredibly': 919,\n",
       " 'screenplay': 920,\n",
       " 'de': 921,\n",
       " 'japanese': 922,\n",
       " 'comment': 923,\n",
       " '20': 924,\n",
       " 'quickly': 925,\n",
       " 'box': 926,\n",
       " 'weird': 927,\n",
       " 'result': 928,\n",
       " 'realize': 929,\n",
       " 'effect': 930,\n",
       " 'street': 931,\n",
       " 'island': 932,\n",
       " 'battle': 933,\n",
       " 'masterpiece': 934,\n",
       " 'badly': 935,\n",
       " 'laughs': 936,\n",
       " 'worked': 937,\n",
       " 'earlier': 938,\n",
       " 'various': 939,\n",
       " 'unique': 940,\n",
       " 'copy': 941,\n",
       " 'older': 942,\n",
       " 'crazy': 943,\n",
       " 'america': 944,\n",
       " 'brings': 945,\n",
       " 'air': 946,\n",
       " 'plenty': 947,\n",
       " 'background': 948,\n",
       " 'stage': 949,\n",
       " 'setting': 950,\n",
       " 'b': 951,\n",
       " 'appear': 952,\n",
       " 'free': 953,\n",
       " 'ask': 954,\n",
       " 'admit': 955,\n",
       " 'fairly': 956,\n",
       " 'following': 957,\n",
       " 'lee': 958,\n",
       " 'powerful': 959,\n",
       " 'joe': 960,\n",
       " 'mark': 961,\n",
       " 'spent': 962,\n",
       " 'leading': 963,\n",
       " 'portrayed': 964,\n",
       " 'front': 965,\n",
       " 'directing': 966,\n",
       " 'business': 967,\n",
       " 'creepy': 968,\n",
       " 'dramatic': 969,\n",
       " 'acted': 970,\n",
       " 'forward': 971,\n",
       " 'rich': 972,\n",
       " 'apart': 973,\n",
       " 'baby': 974,\n",
       " 'outside': 975,\n",
       " 'pay': 976,\n",
       " 'remake': 977,\n",
       " 'mess': 978,\n",
       " 'bill': 979,\n",
       " 'development': 980,\n",
       " 'dumb': 981,\n",
       " 'meant': 982,\n",
       " 'deserves': 983,\n",
       " 'attempts': 984,\n",
       " 'manages': 985,\n",
       " 'fire': 986,\n",
       " 'political': 987,\n",
       " 'la': 988,\n",
       " 'fails': 989,\n",
       " 'expecting': 990,\n",
       " 'water': 991,\n",
       " 'william': 992,\n",
       " 'wasted': 993,\n",
       " '70s': 994,\n",
       " 'create': 995,\n",
       " 'joke': 996,\n",
       " 'return': 997,\n",
       " 'ideas': 998,\n",
       " 'reasons': 999,\n",
       " 'cover': 1000,\n",
       " ...}"
      ]
     },
     "execution_count": 15,
     "metadata": {},
     "output_type": "execute_result"
    }
   ],
   "source": [
    "vocab_to_int"
   ]
  },
  {
   "cell_type": "code",
   "execution_count": 16,
   "metadata": {
    "ExecuteTime": {
     "end_time": "2024-05-05T09:42:19.633336Z",
     "start_time": "2024-05-05T09:42:19.612103Z"
    }
   },
   "outputs": [],
   "source": [
    "reviews_split = df['clean_text'].tolist()"
   ]
  },
  {
   "cell_type": "markdown",
   "metadata": {},
   "source": [
    "##  Tokenize — Encode the words"
   ]
  },
  {
   "cell_type": "code",
   "execution_count": 17,
   "metadata": {
    "ExecuteTime": {
     "end_time": "2024-05-05T09:42:57.370066Z",
     "start_time": "2024-05-05T09:42:56.401171Z"
    }
   },
   "outputs": [
    {
     "name": "stdout",
     "output_type": "stream",
     "text": [
      "[[28, 4, 1, 77, 1941, 44, 1063, 11, 100, 145, 40, 479, 3324, 393, 461, 26, 3190, 34, 23, 205, 14, 10, 6, 601, 48, 590, 15, 2137, 12, 1, 87, 146, 11, 3255, 69, 42, 3324, 13, 29, 5600, 2, 15378, 134, 4, 582, 61, 282, 7, 205, 35, 1, 670, 138, 1707, 69, 10, 6, 21, 3, 118, 16, 1, 8330, 5794, 39, 11861, 10, 118, 2508, 55, 6064, 15, 5636, 5, 1470, 381, 39, 582, 29, 6, 3407, 7, 1, 352, 340, 4, 1, 23503, 12, 8, 6, 469, 3324, 14, 11, 6, 1, 11516, 338, 5, 1, 16023, 6870, 2543, 1061, 61649, 8, 2637, 1375, 20, 25365, 536, 33, 4727, 2520, 4, 1, 1208, 112, 31, 1, 7153, 25, 2992, 13015, 2, 408, 61650, 37, 17529, 6, 21, 319, 20, 1, 5098, 3720, 536, 6, 344, 5, 81744, 8470, 41120, 15379, 5171, 7893, 2461, 2, 18404, 61651, 329, 9265, 7472, 13445, 2, 8721, 34936, 23, 109, 224, 5436, 12, 9, 57, 128, 1, 269, 1303, 4, 1, 118, 6, 668, 5, 1, 187, 11, 8, 262, 112, 77, 257, 548, 3001, 819, 178, 1271, 4349, 16, 2499, 1096, 819, 1412, 819, 81745, 148, 978, 181, 1, 87, 393, 9, 120, 201, 3255, 69, 14, 37, 1574, 8, 13, 2214, 9, 397, 128, 9, 13, 1550, 16, 8, 18, 14, 9, 278, 51, 9, 1463, 3, 1250, 16, 3324, 2, 183, 10277, 5, 1, 319, 2092, 4, 2100, 582, 21, 40, 582, 18, 7965, 7154, 4974, 14178, 26, 2970, 45, 16, 3, 32611, 7035, 14178, 494, 20, 620, 2, 75, 240, 15, 8, 73, 9934, 753, 816, 7035, 106, 660, 81, 1208, 20591, 668, 5, 63, 549, 4, 931, 1996, 39, 1208, 558, 145, 3324, 22, 196, 411, 3778, 15, 48, 6, 3275, 81746, 43, 22, 68, 75, 7, 1211, 15, 122, 4018, 501], [3, 384, 115, 358, 12, 12, 1, 1365, 3015, 6, 52, 18405, 52, 81747, 1628, 2, 391, 3, 13446, 2, 518, 27652, 280, 4, 1881, 5, 1, 421, 407, 12, 12, 1, 150, 23, 546, 73, 2274, 492, 4607, 21, 60, 44, 183, 31, 1, 81748, 18, 27, 44, 31, 1, 2222, 184, 3295, 99, 22, 68, 349, 64, 1, 13906, 797, 10150, 32, 1, 1794, 5, 1664, 7473, 6746, 21, 60, 6, 8, 73, 266, 1, 145, 18, 8, 6, 3, 41121, 427, 2, 2368, 407, 3, 4350, 358, 42, 28, 4, 1, 79, 3208, 4, 213, 2, 24, 119, 12, 12, 1, 1881, 62, 260, 344, 15, 1, 115, 177, 1, 1069, 4, 1, 2983, 61, 241, 70, 340, 1, 2140, 1024, 3160, 1243, 1149, 90, 5052, 8, 288, 20, 249, 1796, 2, 249, 4608, 567, 15, 1, 134, 3605, 19962, 2, 27653, 2, 1, 713, 567, 4, 63, 1094, 15, 81749, 61652, 29081, 166, 2259, 23, 1900, 73, 223], [9, 194, 10, 13, 3, 384, 98, 5, 1110, 59, 20, 3, 99, 905, 1466, 2484, 1192, 7, 1, 946, 16739, 764, 2, 145, 3, 4019, 213, 1, 114, 6, 4053, 18, 1, 405, 6, 1862, 2, 1, 101, 23, 1473, 54, 1, 73, 6602, 6697, 1540, 498, 133, 46, 196, 26, 694, 50, 34, 929, 10, 6, 21, 1030, 221, 283, 2993, 5197, 9, 194, 8, 13, 3032, 11, 2934, 2033, 6, 125, 1377, 7, 1155, 4, 1, 429, 104, 4, 169, 25, 2327, 5, 6196, 12, 10, 13, 1, 86, 452, 1390, 30, 28, 4, 19963, 1294, 7, 151, 3001, 9, 128, 3, 2101, 133, 195, 109, 74, 1481, 15, 9266, 41122, 7, 10, 58, 1268, 5, 1234, 184, 41, 1237, 1393, 2, 5033, 205, 81, 3, 859, 18, 5099, 182, 11078, 12, 10, 196, 21, 26, 1, 7597, 5216, 4, 24, 642, 18, 8, 13, 32612, 70, 2285, 2877, 25366, 2, 51, 218, 70, 2638, 3, 79, 213, 5, 138, 64, 15, 333]]\n"
     ]
    }
   ],
   "source": [
    "reviews_int = []\n",
    "for review in reviews_split:\n",
    "    r = [vocab_to_int[w] for w in review.split()]\n",
    "    reviews_int.append(r)\n",
    "print (reviews_int[0:3])"
   ]
  },
  {
   "cell_type": "code",
   "execution_count": 18,
   "metadata": {
    "ExecuteTime": {
     "end_time": "2024-05-05T09:43:10.009402Z",
     "start_time": "2024-05-05T09:43:09.987595Z"
    }
   },
   "outputs": [
    {
     "data": {
      "text/html": [
       "<div>\n",
       "<style scoped>\n",
       "    .dataframe tbody tr th:only-of-type {\n",
       "        vertical-align: middle;\n",
       "    }\n",
       "\n",
       "    .dataframe tbody tr th {\n",
       "        vertical-align: top;\n",
       "    }\n",
       "\n",
       "    .dataframe thead th {\n",
       "        text-align: right;\n",
       "    }\n",
       "</style>\n",
       "<table border=\"1\" class=\"dataframe\">\n",
       "  <thead>\n",
       "    <tr style=\"text-align: right;\">\n",
       "      <th></th>\n",
       "      <th>review</th>\n",
       "      <th>sentiment</th>\n",
       "      <th>clean_text</th>\n",
       "      <th>len_review</th>\n",
       "    </tr>\n",
       "  </thead>\n",
       "  <tbody>\n",
       "    <tr>\n",
       "      <th>0</th>\n",
       "      <td>one of the other reviewers has mentioned that ...</td>\n",
       "      <td>positive</td>\n",
       "      <td>one of the other reviewers has mentioned that ...</td>\n",
       "      <td>1683</td>\n",
       "    </tr>\n",
       "    <tr>\n",
       "      <th>1</th>\n",
       "      <td>a wonderful little production. &lt;br /&gt;&lt;br /&gt;the...</td>\n",
       "      <td>positive</td>\n",
       "      <td>a wonderful little production br br the filmin...</td>\n",
       "      <td>954</td>\n",
       "    </tr>\n",
       "    <tr>\n",
       "      <th>2</th>\n",
       "      <td>i thought this was a wonderful way to spend ti...</td>\n",
       "      <td>positive</td>\n",
       "      <td>i thought this was a wonderful way to spend ti...</td>\n",
       "      <td>886</td>\n",
       "    </tr>\n",
       "    <tr>\n",
       "      <th>3</th>\n",
       "      <td>basically there's a family where a little boy ...</td>\n",
       "      <td>negative</td>\n",
       "      <td>basically theres a family where a little boy j...</td>\n",
       "      <td>706</td>\n",
       "    </tr>\n",
       "    <tr>\n",
       "      <th>4</th>\n",
       "      <td>petter mattei's \"love in the time of money\" is...</td>\n",
       "      <td>positive</td>\n",
       "      <td>petter matteis love in the time of money is a ...</td>\n",
       "      <td>1261</td>\n",
       "    </tr>\n",
       "  </tbody>\n",
       "</table>\n",
       "</div>"
      ],
      "text/plain": [
       "                                              review sentiment  \\\n",
       "0  one of the other reviewers has mentioned that ...  positive   \n",
       "1  a wonderful little production. <br /><br />the...  positive   \n",
       "2  i thought this was a wonderful way to spend ti...  positive   \n",
       "3  basically there's a family where a little boy ...  negative   \n",
       "4  petter mattei's \"love in the time of money\" is...  positive   \n",
       "\n",
       "                                          clean_text  len_review  \n",
       "0  one of the other reviewers has mentioned that ...        1683  \n",
       "1  a wonderful little production br br the filmin...         954  \n",
       "2  i thought this was a wonderful way to spend ti...         886  \n",
       "3  basically theres a family where a little boy j...         706  \n",
       "4  petter matteis love in the time of money is a ...        1261  "
      ]
     },
     "execution_count": 18,
     "metadata": {},
     "output_type": "execute_result"
    }
   ],
   "source": [
    "df.head()"
   ]
  },
  {
   "cell_type": "markdown",
   "metadata": {},
   "source": [
    "### Tokenize — Encode the labels"
   ]
  },
  {
   "cell_type": "code",
   "execution_count": 19,
   "metadata": {
    "ExecuteTime": {
     "end_time": "2024-05-05T09:43:33.798429Z",
     "start_time": "2024-05-05T09:43:33.792777Z"
    }
   },
   "outputs": [],
   "source": [
    "labels_split = df['sentiment'].tolist()"
   ]
  },
  {
   "cell_type": "code",
   "execution_count": 20,
   "metadata": {
    "ExecuteTime": {
     "end_time": "2024-05-05T09:43:42.697926Z",
     "start_time": "2024-05-05T09:43:42.678489Z"
    }
   },
   "outputs": [],
   "source": [
    "import numpy as np\n",
    "encoded_labels = [1 if label =='positive' else 0 for label in labels_split]\n",
    "encoded_labels = np.array(encoded_labels)"
   ]
  },
  {
   "cell_type": "markdown",
   "metadata": {},
   "source": [
    "## Analyze Reviews Length"
   ]
  },
  {
   "cell_type": "code",
   "execution_count": 21,
   "metadata": {
    "ExecuteTime": {
     "end_time": "2024-05-05T09:44:33.850497Z",
     "start_time": "2024-05-05T09:44:33.352261Z"
    }
   },
   "outputs": [
    {
     "data": {
      "image/png": "[encoded data removed]",
      "text/plain": [
       "<Figure size 640x480 with 1 Axes>"
      ]
     },
     "metadata": {},
     "output_type": "display_data"
    },
    {
     "data": {
      "text/plain": [
       "count    50000.000000\n",
       "mean       230.258240\n",
       "std        170.663887\n",
       "min          4.000000\n",
       "25%        126.000000\n",
       "50%        172.000000\n",
       "75%        280.000000\n",
       "max       2469.000000\n",
       "dtype: float64"
      ]
     },
     "execution_count": 21,
     "metadata": {},
     "output_type": "execute_result"
    }
   ],
   "source": [
    "import matplotlib.pyplot as plt\n",
    "reviews_len = [len(x) for x in reviews_int]\n",
    "pd.Series(reviews_len).hist()\n",
    "plt.show()\n",
    "pd.Series(reviews_len).describe()"
   ]
  },
  {
   "cell_type": "markdown",
   "metadata": {},
   "source": [
    "###  Removing Outliers — Getting rid of extremely long or short reviews"
   ]
  },
  {
   "cell_type": "code",
   "execution_count": 22,
   "metadata": {
    "ExecuteTime": {
     "end_time": "2024-05-05T09:46:31.467124Z",
     "start_time": "2024-05-05T09:46:31.456365Z"
    }
   },
   "outputs": [],
   "source": [
    "reviews_int = [ reviews_int[i] for i, l in enumerate(reviews_len) if l>0 ]\n",
    "encoded_labels = [ encoded_labels[i] for i, l in enumerate(reviews_len) if l> 0 ]"
   ]
  },
  {
   "cell_type": "markdown",
   "metadata": {},
   "source": [
    "### Padding / Truncating the remaining data"
   ]
  },
  {
   "cell_type": "code",
   "execution_count": 23,
   "metadata": {
    "ExecuteTime": {
     "end_time": "2024-05-05T09:47:28.018542Z",
     "start_time": "2024-05-05T09:47:28.004254Z"
    }
   },
   "outputs": [],
   "source": [
    "def pad_features(reviews_int, seq_length):\n",
    "    ''' Return features of review_ints, where each review is padded with 0's or truncated to the input seq_length.\n",
    "    '''\n",
    "    features = np.zeros((len(reviews_int), seq_length), dtype = int)\n",
    "    \n",
    "    for i, review in enumerate(reviews_int):\n",
    "        review_len = len(review)\n",
    "        \n",
    "        if review_len <= seq_length:\n",
    "            zeroes = list(np.zeros(seq_length-review_len))\n",
    "            new = zeroes+review\n",
    "        elif review_len > seq_length:\n",
    "            new = review[0:seq_length]\n",
    "        \n",
    "        features[i,:] = np.array(new)\n",
    "    \n",
    "    return features"
   ]
  },
  {
   "cell_type": "code",
   "execution_count": 24,
   "metadata": {
    "ExecuteTime": {
     "end_time": "2024-05-05T09:47:30.758034Z",
     "start_time": "2024-05-05T09:47:30.306015Z"
    }
   },
   "outputs": [],
   "source": [
    "features = pad_features(reviews_int,200)"
   ]
  },
  {
   "cell_type": "code",
   "execution_count": 26,
   "metadata": {
    "ExecuteTime": {
     "end_time": "2024-05-05T09:47:39.658435Z",
     "start_time": "2024-05-05T09:47:39.646929Z"
    }
   },
   "outputs": [
    {
     "data": {
      "text/plain": [
       "array([[   28,     4,     1, ...,   978,   181,     1],\n",
       "       [    0,     0,     0, ...,  1900,    73,   223],\n",
       "       [    0,     0,     0, ...,    64,    15,   333],\n",
       "       ...,\n",
       "       [    0,     0,     0, ...,    20,     1,   946],\n",
       "       [    0,     0,     0, ..., 10151, 45601,    60],\n",
       "       [    0,     0,     0, ...,    12,    79,  1215]])"
      ]
     },
     "execution_count": 26,
     "metadata": {},
     "output_type": "execute_result"
    }
   ],
   "source": [
    "features[:10,:]"
   ]
  },
  {
   "cell_type": "code",
   "execution_count": 27,
   "metadata": {
    "ExecuteTime": {
     "end_time": "2024-05-05T09:48:38.897168Z",
     "start_time": "2024-05-05T09:48:38.888690Z"
    },
    "collapsed": false,
    "jupyter": {
     "outputs_hidden": false
    }
   },
   "outputs": [
    {
     "data": {
      "text/plain": [
       "50000"
      ]
     },
     "execution_count": 27,
     "metadata": {},
     "output_type": "execute_result"
    }
   ],
   "source": [
    "len(features)"
   ]
  },
  {
   "cell_type": "code",
   "execution_count": 28,
   "metadata": {
    "ExecuteTime": {
     "end_time": "2024-05-05T09:48:44.044810Z",
     "start_time": "2024-05-05T09:48:44.024951Z"
    }
   },
   "outputs": [],
   "source": [
    "len_feat = len(features)\n",
    "split_frac = 0.8"
   ]
  },
  {
   "cell_type": "markdown",
   "metadata": {},
   "source": [
    "### Training, Validation, Test Dataset Split"
   ]
  },
  {
   "cell_type": "code",
   "execution_count": 29,
   "metadata": {
    "ExecuteTime": {
     "end_time": "2024-05-05T09:50:09.581911Z",
     "start_time": "2024-05-05T09:50:09.577080Z"
    }
   },
   "outputs": [],
   "source": [
    "split_frac = 0.8\n",
    "train_x = features[0:int(split_frac*len_feat)]\n",
    "train_y = encoded_labels[0:int(split_frac*len_feat)]\n",
    "remaining_x = features[int(split_frac*len_feat):]\n",
    "remaining_y = encoded_labels[int(split_frac*len_feat):]\n",
    "valid_x = remaining_x[0:int(len(remaining_x)*0.5)]\n",
    "valid_y = remaining_y[0:int(len(remaining_y)*0.5)]\n",
    "test_x = remaining_x[int(len(remaining_x)*0.5):]\n",
    "test_y = remaining_y[int(len(remaining_y)*0.5):]"
   ]
  },
  {
   "cell_type": "code",
   "execution_count": 30,
   "metadata": {
    "ExecuteTime": {
     "end_time": "2024-05-05T09:50:10.874906Z",
     "start_time": "2024-05-05T09:50:10.868418Z"
    }
   },
   "outputs": [
    {
     "data": {
      "text/plain": [
       "list"
      ]
     },
     "execution_count": 30,
     "metadata": {},
     "output_type": "execute_result"
    }
   ],
   "source": [
    "type(test_y)"
   ]
  },
  {
   "cell_type": "code",
   "execution_count": 31,
   "metadata": {
    "ExecuteTime": {
     "end_time": "2024-05-05T09:50:15.342172Z",
     "start_time": "2024-05-05T09:50:15.325838Z"
    }
   },
   "outputs": [],
   "source": [
    "train_y = np.array(train_y)\n",
    "test_y = np.array(test_y)\n",
    "valid_y = np.array(valid_y)"
   ]
  },
  {
   "cell_type": "code",
   "execution_count": 32,
   "metadata": {
    "ExecuteTime": {
     "end_time": "2024-05-05T09:51:04.634846Z",
     "start_time": "2024-05-05T09:51:04.622137Z"
    },
    "collapsed": false,
    "jupyter": {
     "outputs_hidden": false
    }
   },
   "outputs": [
    {
     "name": "stdout",
     "output_type": "stream",
     "text": [
      "Train: (40000,), Test: (5000,), Valid: (5000,)\n"
     ]
    }
   ],
   "source": [
    "print(f'Train: {train_y.shape}, Test: {test_y.shape}, Valid: {valid_y.shape}')"
   ]
  },
  {
   "cell_type": "markdown",
   "metadata": {},
   "source": [
    "## Dataloaders and Batching"
   ]
  },
  {
   "cell_type": "code",
   "execution_count": 33,
   "metadata": {
    "ExecuteTime": {
     "end_time": "2024-05-05T09:56:00.678873Z",
     "start_time": "2024-05-05T09:55:59.625921Z"
    }
   },
   "outputs": [],
   "source": [
    "import torch\n",
    "from torch.utils.data import DataLoader, TensorDataset\n",
    "# create Tensor datasets\n",
    "train_data = TensorDataset(torch.from_numpy(train_x), torch.from_numpy(train_y))\n",
    "valid_data = TensorDataset(torch.from_numpy(valid_x), torch.from_numpy(valid_y))\n",
    "test_data = TensorDataset(torch.from_numpy(test_x), torch.from_numpy(test_y))\n",
    "# dataloaders\n",
    "batch_size = 50\n",
    "# make sure to SHUFFLE your data\n",
    "train_loader = DataLoader(train_data, shuffle=True, batch_size=batch_size)\n",
    "valid_loader = DataLoader(valid_data, shuffle=True, batch_size=batch_size)\n",
    "test_loader = DataLoader(test_data, shuffle=False, batch_size=batch_size)"
   ]
  },
  {
   "cell_type": "code",
   "execution_count": 34,
   "metadata": {
    "ExecuteTime": {
     "end_time": "2024-05-05T09:56:56.963284Z",
     "start_time": "2024-05-05T09:56:56.942898Z"
    }
   },
   "outputs": [
    {
     "name": "stdout",
     "output_type": "stream",
     "text": [
      "Sample input size:  torch.Size([50, 200])\n",
      "Sample input: \n",
      " tensor([[     0,      0,      0,  ...,     10,     17,    189],\n",
      "        [     0,      0,      0,  ...,     12,  15687,   7723],\n",
      "        [    10,      6,      1,  ...,    136,     20,   5630],\n",
      "        ...,\n",
      "        [    35, 115629,   5919,  ...,   1439,    434,  35072],\n",
      "        [     1,  25239,    641,  ...,      1,   2813,   6736],\n",
      "        [     0,      0,      0,  ...,      4,     11,   6624]])\n",
      "\n",
      "Sample label size:  torch.Size([50])\n",
      "Sample label: \n",
      " tensor([1, 1, 1, 1, 1, 0, 1, 0, 1, 1, 1, 0, 1, 1, 1, 0, 1, 0, 0, 0, 0, 0, 0, 1,\n",
      "        0, 1, 0, 0, 1, 1, 0, 0, 1, 0, 0, 0, 1, 0, 1, 0, 0, 1, 1, 1, 1, 1, 0, 1,\n",
      "        1, 0])\n"
     ]
    }
   ],
   "source": [
    "# obtain one batch of training data\n",
    "dataiter = iter(train_loader)\n",
    "sample_x, sample_y = next(dataiter)\n",
    "print('Sample input size: ', sample_x.size()) # batch_size, seq_length\n",
    "print('Sample input: \\n', sample_x)\n",
    "print()\n",
    "print('Sample label size: ', sample_y.size()) # batch_size\n",
    "print('Sample label: \\n', sample_y)"
   ]
  },
  {
   "cell_type": "markdown",
   "metadata": {},
   "source": [
    "## Define the LSTM Network Architecture\n"
   ]
  },
  {
   "cell_type": "code",
   "execution_count": 35,
   "metadata": {
    "ExecuteTime": {
     "end_time": "2024-05-05T10:07:08.072953Z",
     "start_time": "2024-05-05T10:07:08.059075Z"
    }
   },
   "outputs": [],
   "source": [
    "import torch.nn as nn\n",
    "\n",
    "class SentimentLSTM(nn.Module):\n",
    "    \"\"\"\n",
    "    The RNN model that will be used to perform Sentiment analysis.\n",
    "    \"\"\"\n",
    "\n",
    "    def __init__(self, vocab_size, output_size, embedding_dim, hidden_dim, n_layers, drop_prob=0.5):\n",
    "        \"\"\"\n",
    "        Initialize the model by setting up the layers.\n",
    "        \"\"\"\n",
    "        super().__init__()\n",
    "\n",
    "        self.output_size = output_size\n",
    "        self.n_layers = n_layers\n",
    "        self.hidden_dim = hidden_dim\n",
    "        \n",
    "        # embedding and LSTM layers\n",
    "        self.embedding = nn.Embedding(vocab_size, embedding_dim)\n",
    "        self.lstm = nn.LSTM(embedding_dim, hidden_dim, n_layers, \n",
    "                            dropout=drop_prob, batch_first=True)\n",
    "        \n",
    "        # dropout layer\n",
    "        self.dropout = nn.Dropout(0.3)\n",
    "        \n",
    "        # linear and sigmoid layers\n",
    "        self.fc = nn.Linear(hidden_dim, output_size)\n",
    "        self.sig = nn.Sigmoid()\n",
    "        \n",
    "\n",
    "    def forward(self, x, hidden):\n",
    "        \"\"\"\n",
    "        Perform a forward pass of our model on some input and hidden state.\n",
    "        \"\"\"\n",
    "        batch_size = x.size(0)\n",
    "\n",
    "        # embeddings and lstm_out\n",
    "        embeds = self.embedding(x)\n",
    "        lstm_out, hidden = self.lstm(embeds, hidden)\n",
    "    \n",
    "        # stack up lstm outputs\n",
    "        lstm_out = lstm_out.contiguous().view(-1, self.hidden_dim)\n",
    "        \"\"\"\n",
    "        It changes the shape of lstm_out into a 2D matrix where each row represents a time step in the sequence and each column represents the outputs of the LSTM layer at that time step.\n",
    "        \"\"\"\n",
    "        # dropout and fully-connected layer\n",
    "        out = self.dropout(lstm_out)\n",
    "        out = self.fc(out)\n",
    "        # sigmoid function\n",
    "        sig_out = self.sig(out)\n",
    "        \n",
    "        # reshape to be batch_size first\n",
    "        sig_out = sig_out.view(batch_size, -1)\n",
    "        sig_out = sig_out[:, -1] # get last batch of labels\n",
    "        \n",
    "        # return last sigmoid output and hidden state\n",
    "        return sig_out, hidden\n",
    "    \n",
    "    \n",
    "    def init_hidden(self, batch_size):\n",
    "        ''' Initializes hidden state '''\n",
    "        # Create two new tensors with sizes n_layers x batch_size x hidden_dim,\n",
    "        # initialized to zero, for hidden state and cell state of LSTM\n",
    "        weight = next(self.parameters()).data\n",
    "        \n",
    "        if (train_on_gpu):\n",
    "            hidden = (weight.new(self.n_layers, batch_size, self.hidden_dim).zero_().cuda(),\n",
    "                  weight.new(self.n_layers, batch_size, self.hidden_dim).zero_().cuda())\n",
    "        else:\n",
    "            hidden = (weight.new(self.n_layers, batch_size, self.hidden_dim).zero_(),\n",
    "                      weight.new(self.n_layers, batch_size, self.hidden_dim).zero_())\n",
    "        \n",
    "        return hidden\n",
    "        "
   ]
  },
  {
   "cell_type": "markdown",
   "metadata": {},
   "source": [
    "## Training the Network"
   ]
  },
  {
   "cell_type": "markdown",
   "metadata": {},
   "source": [
    "## Instantiate the network"
   ]
  },
  {
   "cell_type": "code",
   "execution_count": 36,
   "metadata": {
    "ExecuteTime": {
     "end_time": "2024-05-05T10:07:49.405417Z",
     "start_time": "2024-05-05T10:07:48.694688Z"
    }
   },
   "outputs": [
    {
     "name": "stdout",
     "output_type": "stream",
     "text": [
      "SentimentLSTM(\n",
      "  (embedding): Embedding(181686, 400)\n",
      "  (lstm): LSTM(400, 256, num_layers=2, batch_first=True, dropout=0.5)\n",
      "  (dropout): Dropout(p=0.3, inplace=False)\n",
      "  (fc): Linear(in_features=256, out_features=1, bias=True)\n",
      "  (sig): Sigmoid()\n",
      ")\n"
     ]
    }
   ],
   "source": [
    "# Instantiate the model w/ hyperparams\n",
    "vocab_size = len(vocab_to_int)+1 # +1 for the 0 padding\n",
    "output_size = 1\n",
    "embedding_dim = 400\n",
    "hidden_dim = 256\n",
    "n_layers = 2\n",
    "net = SentimentLSTM(vocab_size, output_size, embedding_dim, hidden_dim, n_layers)\n",
    "\n",
    "print(net)"
   ]
  },
  {
   "cell_type": "markdown",
   "metadata": {
    "collapsed": false,
    "jupyter": {
     "outputs_hidden": false
    }
   },
   "source": [
    "181686 size of the corpus"
   ]
  },
  {
   "cell_type": "code",
   "execution_count": 38,
   "metadata": {
    "ExecuteTime": {
     "end_time": "2024-05-05T10:10:05.756473Z",
     "start_time": "2024-05-05T10:10:05.746287Z"
    }
   },
   "outputs": [],
   "source": [
    "# First checking if GPU is available\n",
    "train_on_gpu=torch.cuda.is_available()"
   ]
  },
  {
   "cell_type": "markdown",
   "metadata": {},
   "source": [
    "## Training Loop"
   ]
  },
  {
   "cell_type": "code",
   "execution_count": 39,
   "metadata": {
    "ExecuteTime": {
     "end_time": "2024-05-05T10:10:47.982420Z",
     "start_time": "2024-05-05T10:10:47.410947Z"
    }
   },
   "outputs": [],
   "source": [
    "# loss and optimization functions\n",
    "lr=0.001\n",
    "\n",
    "criterion = nn.BCELoss()\n",
    "optimizer = torch.optim.Adam(net.parameters(), lr=lr)"
   ]
  },
  {
   "cell_type": "code",
   "execution_count": 40,
   "metadata": {
    "ExecuteTime": {
     "end_time": "2024-05-05T10:51:54.463763Z",
     "start_time": "2024-05-05T10:18:07.174979Z"
    }
   },
   "outputs": [
    {
     "name": "stdout",
     "output_type": "stream",
     "text": [
      "Epoch: 1/4  Step: 100  Loss: 0.681840  Val Loss: 0.658010 \n",
      "Epoch: 1/4  Step: 200  Loss: 0.612270  Val Loss: 0.592949 \n",
      "Epoch: 1/4  Step: 300  Loss: 0.682435  Val Loss: 0.699312 \n",
      "Epoch: 1/4  Step: 400  Loss: 0.683918  Val Loss: 0.673240 \n",
      "Epoch: 1/4  Step: 500  Loss: 0.517509  Val Loss: 0.549433 \n",
      "Epoch: 1/4  Step: 600  Loss: 0.471688  Val Loss: 0.559710 \n",
      "Epoch: 1/4  Step: 700  Loss: 0.550927  Val Loss: 0.470670 \n",
      "Epoch: 1/4  Step: 800  Loss: 0.639147  Val Loss: 0.514846 \n",
      "Epoch: 2/4  Step: 900  Loss: 0.526982  Val Loss: 0.546015 \n",
      "Epoch: 2/4  Step: 1000  Loss: 0.463051  Val Loss: 0.481734 \n",
      "Epoch: 2/4  Step: 1100  Loss: 0.297701  Val Loss: 0.459395 \n",
      "Epoch: 2/4  Step: 1200  Loss: 0.383151  Val Loss: 0.439138 \n",
      "Epoch: 2/4  Step: 1300  Loss: 0.338075  Val Loss: 0.429232 \n",
      "Epoch: 2/4  Step: 1400  Loss: 0.327550  Val Loss: 0.412000 \n",
      "Epoch: 2/4  Step: 1500  Loss: 0.424970  Val Loss: 0.379986 \n",
      "Epoch: 2/4  Step: 1600  Loss: 0.367757  Val Loss: 0.380163 \n",
      "Epoch: 3/4  Step: 1700  Loss: 0.159219  Val Loss: 0.366699 \n",
      "Epoch: 3/4  Step: 1800  Loss: 0.590936  Val Loss: 0.368394 \n",
      "Epoch: 3/4  Step: 1900  Loss: 0.172295  Val Loss: 0.383036 \n",
      "Epoch: 3/4  Step: 2000  Loss: 0.348395  Val Loss: 0.366727 \n",
      "Epoch: 3/4  Step: 2100  Loss: 0.221565  Val Loss: 0.362558 \n",
      "Epoch: 3/4  Step: 2200  Loss: 0.225458  Val Loss: 0.354225 \n",
      "Epoch: 3/4  Step: 2300  Loss: 0.335817  Val Loss: 0.344649 \n",
      "Epoch: 3/4  Step: 2400  Loss: 0.395535  Val Loss: 0.359500 \n",
      "Epoch: 4/4  Step: 2500  Loss: 0.089444  Val Loss: 0.370149 \n",
      "Epoch: 4/4  Step: 2600  Loss: 0.041676  Val Loss: 0.429420 \n",
      "Epoch: 4/4  Step: 2700  Loss: 0.073812  Val Loss: 0.394258 \n",
      "Epoch: 4/4  Step: 2800  Loss: 0.095619  Val Loss: 0.360613 \n",
      "Epoch: 4/4  Step: 2900  Loss: 0.238570  Val Loss: 0.346406 \n",
      "Epoch: 4/4  Step: 3000  Loss: 0.247929  Val Loss: 0.372181 \n",
      "Epoch: 4/4  Step: 3100  Loss: 0.238110  Val Loss: 0.409095 \n",
      "Epoch: 4/4  Step: 3200  Loss: 0.175435  Val Loss: 0.354063 \n"
     ]
    }
   ],
   "source": [
    "# training params\n",
    "\n",
    "epochs = 4 \n",
    "\n",
    "counter = 0\n",
    "print_every = 100\n",
    "clip=5 # gradient clipping\n",
    "\n",
    "# move model to GPU, if available\n",
    "if(train_on_gpu):\n",
    "    net.cuda()\n",
    "\n",
    "net.train()\n",
    "\"\"\"\n",
    "net.train() : Met le modèle en mode d'entraînement, ce qui active le dropout et la normalisation en lot (batch normalization) si elles sont utilisées.\n",
    "\"\"\"\n",
    "# train for some number of epochs\n",
    "for e in range(epochs):\n",
    "    # initialize hidden state\n",
    "    h = net.init_hidden(batch_size)\n",
    "\n",
    "    # batch loop\n",
    "    for inputs, labels in train_loader:\n",
    "        counter += 1\n",
    "        #print(counter)\n",
    "\n",
    "        if(train_on_gpu):\n",
    "            inputs, labels = inputs.cuda(), labels.cuda()\n",
    "\n",
    "        # Creating new variables for the hidden state, otherwise\n",
    "        # we'd backprop through the entire training history\n",
    "        h = tuple([each.data for each in h])\n",
    "\n",
    "        # zero accumulated gradients\n",
    "        net.zero_grad()\n",
    "\n",
    "        # get the output from the model\n",
    "        output, h = net(inputs, h)\n",
    "\n",
    "        # calculate the loss and perform backprop\n",
    "        loss = criterion(output.squeeze(), labels.float())\n",
    "        loss.backward()\n",
    "        # `clip_grad_norm` helps prevent the exploding gradient problem in RNNs / LSTMs.\n",
    "        nn.utils.clip_grad_norm_(net.parameters(), clip)\n",
    "        optimizer.step()\n",
    "\n",
    "        # loss stats\n",
    "        if counter % print_every == 0:\n",
    "            # Get validation loss\n",
    "            val_h = net.init_hidden(batch_size)\n",
    "            val_losses = []\n",
    "            net.eval()\n",
    "            for inputs, labels in valid_loader:\n",
    "\n",
    "                # Creating new variables for the hidden state, otherwise\n",
    "                # we'd backprop through the entire training history\n",
    "                val_h = tuple([each.data for each in val_h])\n",
    "\n",
    "                if(train_on_gpu):\n",
    "                    inputs, labels = inputs.cuda(), labels.cuda()\n",
    "\n",
    "                output, val_h = net(inputs, val_h)\n",
    "                val_loss = criterion(output.squeeze(), labels.float())\n",
    "\n",
    "                val_losses.append(val_loss.item())\n",
    "\n",
    "            net.train()\n",
    "            print(\"Epoch: {}/{} \".format(e+1, epochs),\n",
    "                  \"Step: {} \".format(counter),\n",
    "                  \"Loss: {:.6f} \".format(loss.item()),\n",
    "                  \"Val Loss: {:.6f} \".format(np.mean(val_losses)))"
   ]
  },
  {
   "cell_type": "markdown",
   "metadata": {},
   "source": [
    "### Testing\n",
    "- On Test Data"
   ]
  },
  {
   "cell_type": "code",
   "execution_count": 41,
   "metadata": {
    "ExecuteTime": {
     "end_time": "2024-05-05T10:52:33.278436Z",
     "start_time": "2024-05-05T10:52:16.759876Z"
    }
   },
   "outputs": [
    {
     "name": "stdout",
     "output_type": "stream",
     "text": [
      "Test loss: 0.356\n",
      "Test accuracy: 0.854\n"
     ]
    }
   ],
   "source": [
    "# Get test data loss and accuracy\n",
    "\n",
    "test_losses = [] # track loss\n",
    "num_correct = 0\n",
    "\n",
    "# init hidden state\n",
    "h = net.init_hidden(batch_size)\n",
    "\n",
    "net.eval()\n",
    "# iterate over test data\n",
    "for inputs, labels in test_loader:\n",
    "\n",
    "    # Creating new variables for the hidden state, otherwise\n",
    "    # we'd backprop through the entire training history\n",
    "    h = tuple([each.data for each in h])\n",
    "\n",
    "    if(train_on_gpu):\n",
    "        inputs, labels = inputs.cuda(), labels.cuda()\n",
    "    \n",
    "    # get predicted outputs\n",
    "    output, h = net(inputs, h)\n",
    "    \n",
    "    # calculate loss\n",
    "    test_loss = criterion(output.squeeze(), labels.float())\n",
    "    test_losses.append(test_loss.item())\n",
    "    \n",
    "    # convert output probabilities to predicted class (0 or 1)\n",
    "    pred = torch.round(output.squeeze())  # rounds to the nearest integer\n",
    "    \n",
    "    # compare predictions to true label\n",
    "    correct_tensor = pred.eq(labels.float().view_as(pred))\n",
    "    correct = np.squeeze(correct_tensor.numpy()) if not train_on_gpu else np.squeeze(correct_tensor.cpu().numpy())\n",
    "    num_correct += np.sum(correct)\n",
    "\n",
    "\n",
    "# -- stats! -- ##\n",
    "# avg test loss\n",
    "print(\"Test loss: {:.3f}\".format(np.mean(test_losses)))\n",
    "\n",
    "# accuracy over all test data\n",
    "test_acc = num_correct/len(test_loader.dataset)\n",
    "print(\"Test accuracy: {:.3f}\".format(test_acc))"
   ]
  },
  {
   "cell_type": "markdown",
   "metadata": {},
   "source": [
    "### On User-generated Data\n",
    "First, we will define a tokenize function that will take care of pre-processing steps and then we will create a predict function that will give us the final output after parsing the user provided review.\n"
   ]
  },
  {
   "cell_type": "code",
   "execution_count": 42,
   "metadata": {
    "ExecuteTime": {
     "end_time": "2024-05-05T10:52:43.800771Z",
     "start_time": "2024-05-05T10:52:43.787478Z"
    }
   },
   "outputs": [],
   "source": [
    "# negative test review\n",
    "test_review_neg = 'The worst movie I have seen; acting was terrible and I want my money back. This movie had bad acting and the dialogue was slow.'"
   ]
  },
  {
   "cell_type": "code",
   "execution_count": 43,
   "metadata": {
    "ExecuteTime": {
     "end_time": "2024-05-05T10:52:51.490187Z",
     "start_time": "2024-05-05T10:52:51.485257Z"
    }
   },
   "outputs": [],
   "source": [
    "def preprocess(review, vocab_to_int):\n",
    "    review = review.lower()\n",
    "    word_list = review.split()\n",
    "    num_list = []\n",
    "    #list of reviews\n",
    "    #though it contains only one review as of now\n",
    "    reviews_int = []\n",
    "    for word in word_list:\n",
    "        if word in vocab_to_int.keys():\n",
    "            num_list.append(vocab_to_int[word])\n",
    "    reviews_int.append(num_list)\n",
    "    return reviews_int"
   ]
  },
  {
   "cell_type": "code",
   "execution_count": 44,
   "metadata": {
    "ExecuteTime": {
     "end_time": "2024-05-05T10:53:04.399791Z",
     "start_time": "2024-05-05T10:53:04.396122Z"
    }
   },
   "outputs": [],
   "source": [
    "def predict(net, test_review, sequence_length=200):\n",
    "    ''' Prints out whether a give review is predicted to be \n",
    "        positive or negative in sentiment, using a trained model.\n",
    "        \n",
    "        params:\n",
    "        net - A trained net \n",
    "        test_review - a review made of normal text and punctuation\n",
    "        sequence_length - the padded length of a review\n",
    "        '''\n",
    "    #change the reviews to sequence of integers\n",
    "    int_rev = preprocess(test_review, vocab_to_int)\n",
    "    #pad the reviews as per the sequence length of the feature\n",
    "    features = pad_features(int_rev, seq_length=seq_length)\n",
    "    \n",
    "    #changing the features to PyTorch tensor\n",
    "    features = torch.from_numpy(features)\n",
    "    \n",
    "    #pass the features to the model to get prediction\n",
    "    net.eval()\n",
    "    val_h = net.init_hidden(1)\n",
    "    val_h = tuple([each.data for each in val_h])\n",
    "\n",
    "    if(train_on_gpu):\n",
    "        features = features.cuda()\n",
    "\n",
    "    output, val_h = net(features, val_h)\n",
    "    \n",
    "    #rounding the output to nearest 0 or 1\n",
    "    pred = torch.round(output)\n",
    "    \n",
    "    #mapping the numeric values to postive or negative\n",
    "    output = [\"Positive\" if pred.item() == 1 else \"Negative\"]\n",
    "    \n",
    "    # print custom response based on whether test_review is pos/neg\n",
    "    print(output)"
   ]
  },
  {
   "cell_type": "code",
   "execution_count": 45,
   "metadata": {
    "ExecuteTime": {
     "end_time": "2024-05-05T10:53:20.524394Z",
     "start_time": "2024-05-05T10:53:20.516666Z"
    }
   },
   "outputs": [],
   "source": [
    "# positive test review\n",
    "test_review_pos = 'This movie had the best acting and the dialogue was so good. I loved it.'"
   ]
  },
  {
   "cell_type": "code",
   "execution_count": 46,
   "metadata": {
    "ExecuteTime": {
     "end_time": "2024-05-05T10:53:22.440130Z",
     "start_time": "2024-05-05T10:53:22.420033Z"
    }
   },
   "outputs": [
    {
     "name": "stdout",
     "output_type": "stream",
     "text": [
      "['Positive']\n"
     ]
    }
   ],
   "source": [
    "# call function\n",
    "# try negative and positive reviews!\n",
    "seq_length=200\n",
    "predict(net, test_review_pos, seq_length)"
   ]
  },
  {
   "cell_type": "code",
   "execution_count": null,
   "metadata": {
    "collapsed": false,
    "jupyter": {
     "outputs_hidden": false
    }
   },
   "outputs": [],
   "source": []
  }
 ],
 "metadata": {
  "kaggle": {
   "accelerator": "gpu",
   "dataSources": [
    {
     "datasetId": 134715,
     "sourceId": 320111,
     "sourceType": "datasetVersion"
    }
   ],
   "dockerImageVersionId": 30097,
   "isGpuEnabled": true,
   "isInternetEnabled": true,
   "language": "python",
   "sourceType": "notebook"
  },
  "kernelspec": {
   "display_name": "Python 3 (ipykernel)",
   "language": "python",
   "name": "python3"
  },
  "language_info": {
   "codemirror_mode": {
    "name": "ipython",
    "version": 3
   },
   "file_extension": ".py",
   "mimetype": "text/x-python",
   "name": "python",
   "nbconvert_exporter": "python",
   "pygments_lexer": "ipython3",
   "version": "3.10.14"
  }
 },
 "nbformat": 4,
 "nbformat_minor": 4
}
