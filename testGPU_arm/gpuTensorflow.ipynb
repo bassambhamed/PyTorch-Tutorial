{
 "cells": [
  {
   "cell_type": "code",
   "execution_count": 1,
   "id": "df996198-eabc-4e90-8cc8-36bb7f420952",
   "metadata": {
    "ExecuteTime": {
     "end_time": "2024-03-18T09:36:38.831737Z",
     "start_time": "2024-03-18T09:36:38.828572Z"
    }
   },
   "outputs": [
    {
     "name": "stdout",
     "output_type": "stream",
     "text": [
      "Python 3.10.13 (main, Sep 11 2023, 08:16:02) [Clang 14.0.6 ]\n"
     ]
    }
   ],
   "source": [
    "import sys\n",
    "print(f'Python {sys.version}')"
   ]
  },
  {
   "cell_type": "code",
   "outputs": [
    {
     "name": "stdout",
     "output_type": "stream",
     "text": [
      "Python Platform: macOS-14.1-arm64-arm-64bit\n"
     ]
    }
   ],
   "source": [
    "import platform\n",
    "print(f'Python Platform: {platform.platform()}')"
   ],
   "metadata": {
    "collapsed": false,
    "ExecuteTime": {
     "end_time": "2024-03-18T09:36:45.300656Z",
     "start_time": "2024-03-18T09:36:45.297875Z"
    }
   },
   "id": "3aabeb340327fd48",
   "execution_count": 2
  },
  {
   "cell_type": "code",
   "execution_count": 3,
   "id": "ab661c44-9363-41ad-ab18-0135200d2b1d",
   "metadata": {
    "ExecuteTime": {
     "end_time": "2024-03-18T09:36:52.095731Z",
     "start_time": "2024-03-18T09:36:50.199453Z"
    }
   },
   "outputs": [
    {
     "name": "stdout",
     "output_type": "stream",
     "text": [
      "Tensorflow Version: 2.15.0\n"
     ]
    }
   ],
   "source": [
    "import tensorflow as tf\n",
    "print(f'Tensorflow Version: {tf.__version__}')"
   ]
  },
  {
   "cell_type": "code",
   "outputs": [
    {
     "name": "stdout",
     "output_type": "stream",
     "text": [
      "Keras Version: 2.15.0\n"
     ]
    }
   ],
   "source": [
    "import keras\n",
    "print(f'Keras Version: {keras.__version__}')"
   ],
   "metadata": {
    "collapsed": false,
    "ExecuteTime": {
     "end_time": "2024-03-18T09:39:32.640984Z",
     "start_time": "2024-03-18T09:39:32.638466Z"
    }
   },
   "id": "5d294363e63c5f80",
   "execution_count": 7
  },
  {
   "cell_type": "code",
   "outputs": [
    {
     "name": "stdout",
     "output_type": "stream",
     "text": [
      "Pandas 2.1.4\n",
      "Scikit-Learn 1.3.0\n",
      "SciPy 1.11.4\n"
     ]
    }
   ],
   "source": [
    "import pandas as pd\n",
    "import sklearn as sk\n",
    "import scipy as sp\n",
    "print(f'Pandas {pd.__version__}')\n",
    "print(f'Scikit-Learn {sk.__version__}')\n",
    "print(f'SciPy {sp.__version__}')"
   ],
   "metadata": {
    "collapsed": false,
    "ExecuteTime": {
     "end_time": "2024-03-18T09:41:25.716108Z",
     "start_time": "2024-03-18T09:41:25.501711Z"
    }
   },
   "id": "505b4edda8f34f51",
   "execution_count": 8
  },
  {
   "cell_type": "code",
   "execution_count": 10,
   "id": "942ee9c3-b127-4c4f-9a48-a647976c831a",
   "metadata": {
    "ExecuteTime": {
     "end_time": "2024-03-18T09:42:38.504989Z",
     "start_time": "2024-03-18T09:42:38.501838Z"
    }
   },
   "outputs": [
    {
     "name": "stdout",
     "output_type": "stream",
     "text": [
      "GPU is available\n"
     ]
    }
   ],
   "source": [
    "gpu = len(tf.config.list_physical_devices('GPU'))>0\n",
    "print('GPU is', 'available' if gpu else 'NOT AVAILABLE')"
   ]
  },
  {
   "cell_type": "code",
   "outputs": [
    {
     "name": "stdout",
     "output_type": "stream",
     "text": [
      "Available devices:\n",
      "PhysicalDevice(name='/physical_device:CPU:0', device_type='CPU')\n",
      "PhysicalDevice(name='/physical_device:GPU:0', device_type='GPU')\n"
     ]
    }
   ],
   "source": [
    "# List all available physical devices\n",
    "devices = tf.config.list_physical_devices()\n",
    "print(\"Available devices:\")\n",
    "for device in devices:\n",
    "    print(device)"
   ],
   "metadata": {
    "collapsed": false,
    "ExecuteTime": {
     "end_time": "2024-03-18T09:51:15.181992Z",
     "start_time": "2024-03-18T09:51:15.179110Z"
    }
   },
   "id": "66409b91ab865179",
   "execution_count": 12
  },
  {
   "cell_type": "code",
   "outputs": [],
   "source": [],
   "metadata": {
    "collapsed": false
   },
   "id": "6fa23848e3f8bb53"
  }
 ],
 "metadata": {
  "kernelspec": {
   "display_name": "Python 3 (ipykernel)",
   "language": "python",
   "name": "python3"
  },
  "language_info": {
   "codemirror_mode": {
    "name": "ipython",
    "version": 3
   },
   "file_extension": ".py",
   "mimetype": "text/x-python",
   "name": "python",
   "nbconvert_exporter": "python",
   "pygments_lexer": "ipython3",
   "version": "3.11.5"
  }
 },
 "nbformat": 4,
 "nbformat_minor": 5
}
