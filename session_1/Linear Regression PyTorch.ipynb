{
 "cells": [
  {
   "cell_type": "markdown",
   "metadata": {},
   "source": [
    "# Making Predictions"
   ]
  },
  {
   "cell_type": "code",
   "execution_count": 1,
   "metadata": {
    "ExecuteTime": {
     "end_time": "2024-04-02T09:47:25.231657Z",
     "start_time": "2024-04-02T09:47:24.586899Z"
    }
   },
   "outputs": [],
   "source": [
    "import torch"
   ]
  },
  {
   "cell_type": "code",
   "execution_count": 2,
   "metadata": {
    "ExecuteTime": {
     "end_time": "2024-04-02T09:47:25.235114Z",
     "start_time": "2024-04-02T09:47:25.233200Z"
    }
   },
   "outputs": [],
   "source": [
    "w = torch.tensor(3.0, requires_grad = True)\n",
    "b = torch.tensor(1.0, requires_grad = True)"
   ]
  },
  {
   "cell_type": "code",
   "execution_count": 3,
   "metadata": {
    "ExecuteTime": {
     "end_time": "2024-04-02T09:47:25.238023Z",
     "start_time": "2024-04-02T09:47:25.235559Z"
    }
   },
   "outputs": [],
   "source": [
    "def forward(x):\n",
    "    y = w*x + b\n",
    "    return y"
   ]
  },
  {
   "cell_type": "code",
   "execution_count": 4,
   "metadata": {
    "ExecuteTime": {
     "end_time": "2024-04-02T09:47:25.241494Z",
     "start_time": "2024-04-02T09:47:25.238749Z"
    }
   },
   "outputs": [
    {
     "data": {
      "text/plain": "tensor([[13.],\n        [22.]], grad_fn=<AddBackward0>)"
     },
     "execution_count": 4,
     "metadata": {},
     "output_type": "execute_result"
    }
   ],
   "source": [
    "x = torch.tensor([[4], [7]])\n",
    "forward(x)"
   ]
  },
  {
   "cell_type": "markdown",
   "metadata": {},
   "source": [
    "# Linear Class"
   ]
  },
  {
   "cell_type": "code",
   "execution_count": 5,
   "metadata": {
    "ExecuteTime": {
     "end_time": "2024-04-02T09:47:25.244415Z",
     "start_time": "2024-04-02T09:47:25.242920Z"
    }
   },
   "outputs": [],
   "source": [
    "from torch.nn import Linear"
   ]
  },
  {
   "cell_type": "code",
   "execution_count": 6,
   "metadata": {
    "ExecuteTime": {
     "end_time": "2024-04-02T09:47:25.249815Z",
     "start_time": "2024-04-02T09:47:25.244921Z"
    }
   },
   "outputs": [
    {
     "name": "stdout",
     "output_type": "stream",
     "text": [
      "Parameter containing:\n",
      "tensor([-0.4414], requires_grad=True) Parameter containing:\n",
      "tensor([[0.5153]], requires_grad=True)\n"
     ]
    }
   ],
   "source": [
    "torch.manual_seed(1)\n",
    "model = Linear(in_features=1, out_features=1)\n",
    "print(model.bias, model.weight)"
   ]
  },
  {
   "cell_type": "code",
   "execution_count": 7,
   "metadata": {
    "ExecuteTime": {
     "end_time": "2024-04-02T09:47:25.252933Z",
     "start_time": "2024-04-02T09:47:25.248948Z"
    }
   },
   "outputs": [
    {
     "name": "stdout",
     "output_type": "stream",
     "text": [
      "tensor([[0.5891],\n",
      "        [1.2590]], grad_fn=<AddmmBackward0>)\n"
     ]
    }
   ],
   "source": [
    "x = torch.tensor([[2.0], [3.3]])\n",
    "print(model(x))"
   ]
  },
  {
   "cell_type": "markdown",
   "metadata": {},
   "source": [
    "# Custom Modules"
   ]
  },
  {
   "cell_type": "code",
   "execution_count": 8,
   "metadata": {
    "ExecuteTime": {
     "end_time": "2024-04-02T09:47:25.271034Z",
     "start_time": "2024-04-02T09:47:25.252348Z"
    }
   },
   "outputs": [],
   "source": [
    "import torch.nn as nn\n",
    "class LR(nn.Module):\n",
    "    def __init__(self, input_size, output_size):\n",
    "    # initialisation de la classe LR \n",
    "        super().__init__()\n",
    "        # appelle le constructeur de la classe de base 'nn.Module', assurant que l'initialisation de la classe de base est effectuée avant l'initialisation spécifique à la classe LR.\n",
    "        self.linear = nn.Linear(input_size,output_size)\n",
    "    def forward(self,x):\n",
    "        pred = self.linear(x)\n",
    "        return pred"
   ]
  },
  {
   "cell_type": "code",
   "execution_count": 9,
   "metadata": {
    "ExecuteTime": {
     "end_time": "2024-04-02T09:47:25.271418Z",
     "start_time": "2024-04-02T09:47:25.254648Z"
    }
   },
   "outputs": [
    {
     "name": "stdout",
     "output_type": "stream",
     "text": [
      "[Parameter containing:\n",
      "tensor([[-0.1939]], requires_grad=True), Parameter containing:\n",
      "tensor([0.4694], requires_grad=True)]\n"
     ]
    }
   ],
   "source": [
    "model = LR(1,1)\n",
    "print(list(model.parameters()))"
   ]
  },
  {
   "cell_type": "code",
   "execution_count": 10,
   "metadata": {
    "ExecuteTime": {
     "end_time": "2024-04-02T09:47:25.271859Z",
     "start_time": "2024-04-02T09:47:25.257539Z"
    }
   },
   "outputs": [
    {
     "name": "stdout",
     "output_type": "stream",
     "text": [
      "tensor([[0.2755],\n",
      "        [0.0816]], grad_fn=<AddmmBackward0>)\n"
     ]
    }
   ],
   "source": [
    "x = torch.tensor([[1.0],[2.0]])\n",
    "print(model.forward(x))"
   ]
  },
  {
   "cell_type": "markdown",
   "metadata": {},
   "source": [
    "# Creating Dataset"
   ]
  },
  {
   "cell_type": "code",
   "execution_count": 11,
   "metadata": {
    "ExecuteTime": {
     "end_time": "2024-04-02T09:47:25.465012Z",
     "start_time": "2024-04-02T09:47:25.260225Z"
    }
   },
   "outputs": [],
   "source": [
    "import matplotlib.pyplot as plt"
   ]
  },
  {
   "cell_type": "code",
   "execution_count": 12,
   "metadata": {
    "ExecuteTime": {
     "end_time": "2024-04-02T09:47:25.525169Z",
     "start_time": "2024-04-02T09:47:25.465744Z"
    }
   },
   "outputs": [
    {
     "data": {
      "text/plain": "Text(0.5, 0, 'X')"
     },
     "execution_count": 12,
     "metadata": {},
     "output_type": "execute_result"
    },
    {
     "data": {
      "text/plain": "<Figure size 640x480 with 1 Axes>",
      "image/png": "[encoded data removed]"
     },
     "metadata": {},
     "output_type": "display_data"
    }
   ],
   "source": [
    "X = torch.randn(100,1)*10\n",
    "y = X  + torch.randn(100,1)*3\n",
    "plt.plot(X.numpy(),y.numpy(), 'o')\n",
    "plt.ylabel('y')\n",
    "plt.xlabel('X')"
   ]
  },
  {
   "cell_type": "code",
   "execution_count": 13,
   "metadata": {
    "ExecuteTime": {
     "end_time": "2024-04-02T09:47:25.526419Z",
     "start_time": "2024-04-02T09:47:25.524755Z"
    }
   },
   "outputs": [
    {
     "name": "stdout",
     "output_type": "stream",
     "text": [
      "LR(\n",
      "  (linear): Linear(in_features=1, out_features=1, bias=True)\n",
      ")\n"
     ]
    }
   ],
   "source": [
    "model = LR(1,1)\n",
    "print(model)"
   ]
  },
  {
   "cell_type": "code",
   "execution_count": 14,
   "metadata": {
    "ExecuteTime": {
     "end_time": "2024-04-02T09:47:25.531637Z",
     "start_time": "2024-04-02T09:47:25.529406Z"
    }
   },
   "outputs": [],
   "source": [
    "[w, b] = model.parameters()\n",
    "def get_params():\n",
    "    return (w[0][0].item(), b[0].item())"
   ]
  },
  {
   "cell_type": "code",
   "execution_count": 15,
   "metadata": {
    "ExecuteTime": {
     "end_time": "2024-04-02T09:47:25.534537Z",
     "start_time": "2024-04-02T09:47:25.531089Z"
    }
   },
   "outputs": [
    {
     "data": {
      "text/plain": "(-0.6993244886398315, 0.6572802066802979)"
     },
     "execution_count": 15,
     "metadata": {},
     "output_type": "execute_result"
    }
   ],
   "source": [
    "get_params()"
   ]
  },
  {
   "cell_type": "code",
   "execution_count": 16,
   "metadata": {
    "ExecuteTime": {
     "end_time": "2024-04-02T09:47:25.536963Z",
     "start_time": "2024-04-02T09:47:25.533978Z"
    }
   },
   "outputs": [],
   "source": [
    "import numpy as np\n",
    "def plot_fit(title):\n",
    "    plt.tilte = title\n",
    "    w1, b1 = get_params()\n",
    "    x1 = np.array([-30,30])\n",
    "    y1 = w1*x1 + b1\n",
    "    plt.plot(x1,y1, 'r')\n",
    "    plt.scatter(X,y)\n",
    "    plt.show()"
   ]
  },
  {
   "cell_type": "code",
   "execution_count": 17,
   "metadata": {
    "ExecuteTime": {
     "end_time": "2024-04-02T09:47:25.582190Z",
     "start_time": "2024-04-02T09:47:25.537061Z"
    }
   },
   "outputs": [
    {
     "data": {
      "text/plain": "<Figure size 640x480 with 1 Axes>",
      "image/png": "[encoded data removed]"
     },
     "metadata": {},
     "output_type": "display_data"
    }
   ],
   "source": [
    "plot_fit('Simple Linear Regression')"
   ]
  },
  {
   "cell_type": "markdown",
   "metadata": {},
   "source": [
    "# Loss Function, Gradient Descent and Mean Squared Error"
   ]
  },
  {
   "cell_type": "code",
   "execution_count": 18,
   "metadata": {
    "ExecuteTime": {
     "end_time": "2024-04-02T09:47:25.964807Z",
     "start_time": "2024-04-02T09:47:25.582483Z"
    }
   },
   "outputs": [],
   "source": [
    "criterion = nn.MSELoss()\n",
    "optimizer = torch.optim.SGD(model.parameters(),lr = 0.001)"
   ]
  },
  {
   "cell_type": "code",
   "execution_count": 19,
   "metadata": {
    "ExecuteTime": {
     "end_time": "2024-04-02T09:47:25.987369Z",
     "start_time": "2024-04-02T09:47:25.965444Z"
    }
   },
   "outputs": [
    {
     "name": "stdout",
     "output_type": "stream",
     "text": [
      "epoch: 0 loss: 337.26202392578125\n",
      "epoch: 1 loss: 203.69261169433594\n",
      "epoch: 2 loss: 124.55746459960938\n",
      "epoch: 3 loss: 77.67243957519531\n",
      "epoch: 4 loss: 49.89436340332031\n",
      "epoch: 5 loss: 33.43640899658203\n",
      "epoch: 6 loss: 23.685178756713867\n",
      "epoch: 7 loss: 17.907428741455078\n",
      "epoch: 8 loss: 14.483807563781738\n",
      "epoch: 9 loss: 12.454916000366211\n",
      "epoch: 10 loss: 11.252350807189941\n",
      "epoch: 11 loss: 10.539355278015137\n",
      "epoch: 12 loss: 10.116409301757812\n",
      "epoch: 13 loss: 9.865309715270996\n",
      "epoch: 14 loss: 9.716024398803711\n",
      "epoch: 15 loss: 9.62706184387207\n",
      "epoch: 16 loss: 9.573840141296387\n",
      "epoch: 17 loss: 9.541794776916504\n",
      "epoch: 18 loss: 9.522300720214844\n",
      "epoch: 19 loss: 9.510241508483887\n",
      "epoch: 20 loss: 9.50259017944336\n",
      "epoch: 21 loss: 9.497552871704102\n",
      "epoch: 22 loss: 9.49406623840332\n",
      "epoch: 23 loss: 9.491500854492188\n",
      "epoch: 24 loss: 9.489480972290039\n",
      "epoch: 25 loss: 9.487789154052734\n",
      "epoch: 26 loss: 9.486291885375977\n",
      "epoch: 27 loss: 9.484911918640137\n",
      "epoch: 28 loss: 9.483604431152344\n",
      "epoch: 29 loss: 9.482341766357422\n",
      "epoch: 30 loss: 9.48110580444336\n",
      "epoch: 31 loss: 9.479889869689941\n",
      "epoch: 32 loss: 9.478686332702637\n",
      "epoch: 33 loss: 9.477492332458496\n",
      "epoch: 34 loss: 9.476305961608887\n",
      "epoch: 35 loss: 9.475125312805176\n",
      "epoch: 36 loss: 9.473952293395996\n",
      "epoch: 37 loss: 9.472782135009766\n",
      "epoch: 38 loss: 9.471619606018066\n",
      "epoch: 39 loss: 9.470460891723633\n",
      "epoch: 40 loss: 9.469305992126465\n",
      "epoch: 41 loss: 9.468157768249512\n",
      "epoch: 42 loss: 9.467011451721191\n",
      "epoch: 43 loss: 9.465871810913086\n",
      "epoch: 44 loss: 9.464735984802246\n",
      "epoch: 45 loss: 9.463604927062988\n",
      "epoch: 46 loss: 9.462478637695312\n",
      "epoch: 47 loss: 9.461355209350586\n",
      "epoch: 48 loss: 9.460238456726074\n",
      "epoch: 49 loss: 9.459125518798828\n",
      "epoch: 50 loss: 9.458017349243164\n",
      "epoch: 51 loss: 9.45691204071045\n",
      "epoch: 52 loss: 9.45581340789795\n",
      "epoch: 53 loss: 9.454717636108398\n",
      "epoch: 54 loss: 9.453625679016113\n",
      "epoch: 55 loss: 9.452539443969727\n",
      "epoch: 56 loss: 9.451456069946289\n",
      "epoch: 57 loss: 9.450377464294434\n",
      "epoch: 58 loss: 9.449302673339844\n",
      "epoch: 59 loss: 9.448234558105469\n",
      "epoch: 60 loss: 9.447169303894043\n",
      "epoch: 61 loss: 9.446107864379883\n",
      "epoch: 62 loss: 9.445050239562988\n",
      "epoch: 63 loss: 9.443998336791992\n",
      "epoch: 64 loss: 9.442950248718262\n",
      "epoch: 65 loss: 9.441905975341797\n",
      "epoch: 66 loss: 9.440865516662598\n",
      "epoch: 67 loss: 9.439828872680664\n",
      "epoch: 68 loss: 9.438797950744629\n",
      "epoch: 69 loss: 9.437769889831543\n",
      "epoch: 70 loss: 9.436745643615723\n",
      "epoch: 71 loss: 9.435726165771484\n",
      "epoch: 72 loss: 9.434711456298828\n",
      "epoch: 73 loss: 9.433699607849121\n",
      "epoch: 74 loss: 9.43269157409668\n",
      "epoch: 75 loss: 9.431689262390137\n",
      "epoch: 76 loss: 9.430689811706543\n",
      "epoch: 77 loss: 9.429694175720215\n",
      "epoch: 78 loss: 9.428703308105469\n",
      "epoch: 79 loss: 9.427716255187988\n",
      "epoch: 80 loss: 9.42673110961914\n",
      "epoch: 81 loss: 9.425751686096191\n",
      "epoch: 82 loss: 9.424777030944824\n",
      "epoch: 83 loss: 9.423805236816406\n",
      "epoch: 84 loss: 9.422836303710938\n",
      "epoch: 85 loss: 9.421873092651367\n",
      "epoch: 86 loss: 9.420912742614746\n",
      "epoch: 87 loss: 9.41995620727539\n",
      "epoch: 88 loss: 9.4190034866333\n",
      "epoch: 89 loss: 9.418054580688477\n",
      "epoch: 90 loss: 9.417110443115234\n",
      "epoch: 91 loss: 9.416168212890625\n",
      "epoch: 92 loss: 9.415231704711914\n",
      "epoch: 93 loss: 9.414298057556152\n",
      "epoch: 94 loss: 9.41336727142334\n",
      "epoch: 95 loss: 9.41244125366211\n",
      "epoch: 96 loss: 9.411518096923828\n",
      "epoch: 97 loss: 9.410598754882812\n",
      "epoch: 98 loss: 9.409684181213379\n",
      "epoch: 99 loss: 9.408771514892578\n"
     ]
    }
   ],
   "source": [
    "epochs = 100\n",
    "losses = []\n",
    "for i in range(epochs):\n",
    "    y_pred = model.forward(X)\n",
    "    loss = criterion(y_pred, y)\n",
    "    print('epoch:', i, 'loss:', loss.item())\n",
    "    losses.append(loss)\n",
    "    \n",
    "    optimizer.zero_grad()   \n",
    "    loss.backward()   \n",
    "    optimizer.step()"
   ]
  },
  {
   "cell_type": "code",
   "outputs": [],
   "source": [
    "losses_list = []\n",
    "for i in range(epochs):\n",
    "    losses_list.append(losses[i].detach().numpy())\n",
    "losses_numpy = np.array(losses_list)"
   ],
   "metadata": {
    "collapsed": false,
    "ExecuteTime": {
     "end_time": "2024-04-02T09:47:25.990773Z",
     "start_time": "2024-04-02T09:47:25.987358Z"
    }
   },
   "execution_count": 20
  },
  {
   "cell_type": "code",
   "execution_count": 21,
   "metadata": {
    "ExecuteTime": {
     "end_time": "2024-04-02T09:47:26.044490Z",
     "start_time": "2024-04-02T09:47:25.991694Z"
    }
   },
   "outputs": [
    {
     "data": {
      "text/plain": "Text(0.5, 0, 'epoch')"
     },
     "execution_count": 21,
     "metadata": {},
     "output_type": "execute_result"
    },
    {
     "data": {
      "text/plain": "<Figure size 640x480 with 1 Axes>",
      "image/png": "[encoded data removed]"
     },
     "metadata": {},
     "output_type": "display_data"
    }
   ],
   "source": [
    "plt.plot(range(epochs), losses_numpy)\n",
    "plt.ylabel('Loss')\n",
    "plt.xlabel('epoch')"
   ]
  },
  {
   "cell_type": "code",
   "execution_count": 22,
   "metadata": {
    "ExecuteTime": {
     "end_time": "2024-04-02T09:47:26.094436Z",
     "start_time": "2024-04-02T09:47:26.050156Z"
    }
   },
   "outputs": [
    {
     "data": {
      "text/plain": "<Figure size 640x480 with 1 Axes>",
      "image/png": "[encoded data removed]"
     },
     "metadata": {},
     "output_type": "display_data"
    }
   ],
   "source": [
    "plot_fit('Training Model')"
   ]
  },
  {
   "cell_type": "code",
   "execution_count": 22,
   "metadata": {
    "ExecuteTime": {
     "end_time": "2024-04-02T09:47:26.095190Z",
     "start_time": "2024-04-02T09:47:26.093389Z"
    }
   },
   "outputs": [],
   "source": []
  }
 ],
 "metadata": {
  "kernelspec": {
   "display_name": "Python 3",
   "language": "python",
   "name": "python3"
  },
  "language_info": {
   "codemirror_mode": {
    "name": "ipython",
    "version": 3
   },
   "file_extension": ".py",
   "mimetype": "text/x-python",
   "name": "python",
   "nbconvert_exporter": "python",
   "pygments_lexer": "ipython3",
   "version": "3.8.3"
  }
 },
 "nbformat": 4,
 "nbformat_minor": 4
}
